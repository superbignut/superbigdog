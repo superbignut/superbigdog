{
 "cells": [
  {
   "cell_type": "code",
   "execution_count": 1,
   "metadata": {},
   "outputs": [],
   "source": [
    "from darwin3_runtime_api import darwin3_device"
   ]
  },
  {
   "cell_type": "code",
   "execution_count": 2,
   "metadata": {},
   "outputs": [],
   "source": [
    "# test = darwin3_device.darwin3_device(ip=[\"192.168.1.89\"], step_size=399999, app_path=\"./apps/\")\n",
    "test = darwin3_device.darwin3_device(ip=[\"192.168.1.90\"], step_size=399999, app_path=\"./apps/\")"
   ]
  },
  {
   "cell_type": "code",
   "execution_count": null,
   "metadata": {},
   "outputs": [],
   "source": [
    "test.reset()"
   ]
  },
  {
   "cell_type": "code",
   "execution_count": 4,
   "metadata": {},
   "outputs": [
    {
     "name": "stdout",
     "output_type": "stream",
     "text": [
      "Please check the information on the Darwin3 development board \n",
      "to determine if the configuration was successful.\n"
     ]
    },
    {
     "data": {
      "text/plain": [
       "0"
      ]
     },
     "execution_count": 4,
     "metadata": {},
     "output_type": "execute_result"
    }
   ],
   "source": [
    "test.darwin3_init(333)"
   ]
  },
  {
   "cell_type": "code",
   "execution_count": 5,
   "metadata": {},
   "outputs": [
    {
     "name": "stdout",
     "output_type": "stream",
     "text": [
      "===<0>=== generating enable_flitin.txt&enable_flitin.bin\n",
      "===<0>=== flit_gen elapsed : 1.175 ms\n"
     ]
    },
    {
     "ename": "TypeError",
     "evalue": "darwin3_device.__transmit_flit__() got an unexpected keyword argument 'fbin'",
     "output_type": "error",
     "traceback": [
      "\u001b[0;31m---------------------------------------------------------------------------\u001b[0m",
      "\u001b[0;31mTypeError\u001b[0m                                 Traceback (most recent call last)",
      "Cell \u001b[0;32mIn[5], line 1\u001b[0m\n\u001b[0;32m----> 1\u001b[0m \u001b[43mtest\u001b[49m\u001b[38;5;241;43m.\u001b[39;49m\u001b[43menable_neurons\u001b[49m\u001b[43m(\u001b[49m\u001b[43m)\u001b[49m\n",
      "File \u001b[0;32m~/Darwin/github/darwin3_runtime_api/darwin3_runtime_api/darwin3_device.py:2567\u001b[0m, in \u001b[0;36mdarwin3_device.enable_neurons\u001b[0;34m(self, dwnc_file)\u001b[0m\n\u001b[1;32m   2560\u001b[0m     \u001b[38;5;28mself\u001b[39m\u001b[38;5;241m.\u001b[39m__flit_gen_east__(\n\u001b[1;32m   2561\u001b[0m         \u001b[38;5;28mtype\u001b[39m\u001b[38;5;241m=\u001b[39m\u001b[38;5;124m\"\u001b[39m\u001b[38;5;124mdeploy\u001b[39m\u001b[38;5;124m\"\u001b[39m,\n\u001b[1;32m   2562\u001b[0m     input_file\u001b[38;5;241m=\u001b[39mdwnc_file\u001b[38;5;241m+\u001b[39m\u001b[38;5;124m\"\u001b[39m\u001b[38;5;124m_east.dwnc\u001b[39m\u001b[38;5;124m\"\u001b[39m,\n\u001b[1;32m   2563\u001b[0m     output_file\u001b[38;5;241m=\u001b[39mdwnc_file\u001b[38;5;241m+\u001b[39m\u001b[38;5;124m\"\u001b[39m\u001b[38;5;124m_flitin_east\u001b[39m\u001b[38;5;124m\"\u001b[39m,\n\u001b[1;32m   2564\u001b[0m     )\n\u001b[1;32m   2566\u001b[0m \u001b[38;5;66;03m# 发送 flit 包到 Darwin3 板卡\u001b[39;00m\n\u001b[0;32m-> 2567\u001b[0m \u001b[38;5;28;43mself\u001b[39;49m\u001b[38;5;241;43m.\u001b[39;49m\u001b[43m__transmit_flit__\u001b[49m\u001b[43m(\u001b[49m\u001b[43mport\u001b[49m\u001b[38;5;241;43m=\u001b[39;49m\u001b[38;5;28;43mself\u001b[39;49m\u001b[38;5;241;43m.\u001b[39;49m\u001b[43mport\u001b[49m\u001b[43m[\u001b[49m\u001b[38;5;241;43m0\u001b[39;49m\u001b[43m]\u001b[49m\u001b[43m,\u001b[49m\u001b[43m \u001b[49m\u001b[43mdata_type\u001b[49m\u001b[38;5;241;43m=\u001b[39;49m\u001b[38;5;28;43mself\u001b[39;49m\u001b[38;5;241;43m.\u001b[39;49m\u001b[43mNORMAL_FLIT\u001b[49m\u001b[43m,\u001b[49m\u001b[43m \u001b[49m\u001b[43mfbin\u001b[49m\u001b[38;5;241;43m=\u001b[39;49m\u001b[38;5;28;43mself\u001b[39;49m\u001b[38;5;241;43m.\u001b[39;49m\u001b[43mdeploy_path\u001b[49m\u001b[38;5;241;43m+\u001b[39;49m\u001b[43mdwnc_file\u001b[49m\u001b[38;5;241;43m+\u001b[39;49m\u001b[38;5;124;43m\"\u001b[39;49m\u001b[38;5;124;43m_flitin.bin\u001b[39;49m\u001b[38;5;124;43m\"\u001b[39;49m\u001b[43m)\u001b[49m\n\u001b[1;32m   2568\u001b[0m \u001b[38;5;28;01mif\u001b[39;00m \u001b[38;5;28mself\u001b[39m\u001b[38;5;241m.\u001b[39mdeploy_from_east:\n\u001b[1;32m   2569\u001b[0m     \u001b[38;5;28mself\u001b[39m\u001b[38;5;241m.\u001b[39m__transmit_flit__(port\u001b[38;5;241m=\u001b[39m\u001b[38;5;28mself\u001b[39m\u001b[38;5;241m.\u001b[39mport[\u001b[38;5;241m1\u001b[39m], data_type\u001b[38;5;241m=\u001b[39m\u001b[38;5;28mself\u001b[39m\u001b[38;5;241m.\u001b[39mNORMAL_FLIT, fbin\u001b[38;5;241m=\u001b[39m\u001b[38;5;28mself\u001b[39m\u001b[38;5;241m.\u001b[39mdeploy_path\u001b[38;5;241m+\u001b[39mdwnc_file\u001b[38;5;241m+\u001b[39m\u001b[38;5;124m\"\u001b[39m\u001b[38;5;124m_flitin_east.bin\u001b[39m\u001b[38;5;124m\"\u001b[39m)\n",
      "\u001b[0;31mTypeError\u001b[0m: darwin3_device.__transmit_flit__() got an unexpected keyword argument 'fbin'"
     ]
    }
   ],
   "source": [
    "test.enable_neurons()"
   ]
  },
  {
   "cell_type": "code",
   "execution_count": null,
   "metadata": {},
   "outputs": [],
   "source": [
    "test.clear_neurons_states()"
   ]
  },
  {
   "cell_type": "code",
   "execution_count": null,
   "metadata": {},
   "outputs": [],
   "source": [
    "test.disable_neurons()"
   ]
  },
  {
   "cell_type": "code",
   "execution_count": 6,
   "metadata": {},
   "outputs": [
    {
     "name": "stdout",
     "output_type": "stream",
     "text": [
      "===<0>=== generating deploy_flitin.txt&deploy_flitin.bin\n",
      "===<0>=== flit_gen elapsed : 5.418 ms\n",
      "===<1>=== tcp connect succeed\n",
      "===<2>=== send succeed\n",
      "===<3>=== tcp sent elapsed : 0.509 ms\n"
     ]
    }
   ],
   "source": [
    "test.deploy_config()"
   ]
  },
  {
   "cell_type": "code",
   "execution_count": null,
   "metadata": {},
   "outputs": [],
   "source": [
    "# test.run_darwin3_withfile(spike_neurons=[[1],[]])"
   ]
  },
  {
   "cell_type": "code",
   "execution_count": 8,
   "metadata": {},
   "outputs": [
    {
     "name": "stdout",
     "output_type": "stream",
     "text": [
      "===<0>=== generating run_flitin.txt&run_flitin.bin\n",
      "===<0>=== flit_gen elapsed : 0.963 ms\n",
      "===<0>=== generating sync.txt&sync.bin\n",
      "===<0>=== flit_gen elapsed : 0.428 ms\n",
      "===<1>=== tcp connect succeed\n",
      "===<2>=== send succeed\n",
      "===<3>=== tcp sent elapsed : 0.118 ms\n",
      "===<4>=== parser recv flit : recv_run_flit_west.txt\n",
      "===<4>=== parser recv flit elapsed : 0.106 ms\n"
     ]
    },
    {
     "data": {
      "text/plain": [
       "[[], []]"
      ]
     },
     "execution_count": 8,
     "metadata": {},
     "output_type": "execute_result"
    }
   ],
   "source": [
    "test.run_darwin3_withfile(spike_neurons=[[1],[]])"
   ]
  },
  {
   "cell_type": "code",
   "execution_count": null,
   "metadata": {},
   "outputs": [],
   "source": [
    "from pathlib import Path\n",
    "\n",
    "\n",
    "current_file_path = Path(__file__).resolve()\n",
    "current_dir = current_file_path.parent"
   ]
  },
  {
   "cell_type": "code",
   "execution_count": null,
   "metadata": {},
   "outputs": [],
   "source": []
  }
 ],
 "metadata": {
  "kernelspec": {
   "display_name": "darwin_py3_10",
   "language": "python",
   "name": "python3"
  },
  "language_info": {
   "codemirror_mode": {
    "name": "ipython",
    "version": 3
   },
   "file_extension": ".py",
   "mimetype": "text/x-python",
   "name": "python",
   "nbconvert_exporter": "python",
   "pygments_lexer": "ipython3",
   "version": "3.10.10"
  }
 },
 "nbformat": 4,
 "nbformat_minor": 2
}
