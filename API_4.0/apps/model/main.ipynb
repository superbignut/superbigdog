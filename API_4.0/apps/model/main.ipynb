{
 "cells": [
  {
   "cell_type": "code",
   "execution_count": 40,
   "metadata": {},
   "outputs": [
    {
     "name": "stdout",
     "output_type": "stream",
     "text": [
      "Please check the information on the Darwin3 development board \n",
      "to determine if the configuration was successful.\n",
      "Please check the information on the Darwin3 development board \n",
      "to determine if the configuration was successful.\n"
     ]
    }
   ],
   "source": [
    "import os\n",
    "import sys\n",
    "import numpy as np\n",
    "import torch\n",
    "from darwin3_runtime_api import darwin3_device\n",
    "\n",
    "# test = darwin3_device.darwin3_device(app_path='../', step_size=10000, ip=['192.168.1.90']) # 172.31.111.35\n",
    "test = darwin3_device.darwin3_device(app_path='../', step_size=1_000_000, ip=['172.31.111.35'], spk_print=True) # 172.31.111.35\n",
    "\n",
    "import time\n",
    "\n",
    "\n",
    "time.sleep(1)\n",
    "\n",
    "test.reset()\n",
    "\n",
    "time.sleep(1)\n",
    "\n",
    "test.darwin3_init(333)\n",
    "\n",
    "time.sleep(1)\n",
    "\n",
    "test.deploy_config()"
   ]
  },
  {
   "cell_type": "code",
   "execution_count": 31,
   "metadata": {},
   "outputs": [
    {
     "name": "stdout",
     "output_type": "stream",
     "text": [
      "Please check the information on the Darwin3 development board \n",
      "to determine if the configuration was successful.\n"
     ]
    }
   ],
   "source": [
    "test.reset()\n"
   ]
  },
  {
   "cell_type": "code",
   "execution_count": 32,
   "metadata": {},
   "outputs": [
    {
     "name": "stdout",
     "output_type": "stream",
     "text": [
      "Please check the information on the Darwin3 development board \n",
      "to determine if the configuration was successful.\n"
     ]
    }
   ],
   "source": [
    "test.darwin3_init(333)"
   ]
  },
  {
   "cell_type": "code",
   "execution_count": 33,
   "metadata": {},
   "outputs": [],
   "source": [
    "test.deploy_config()"
   ]
  },
  {
   "cell_type": "code",
   "execution_count": null,
   "metadata": {},
   "outputs": [],
   "source": [
    "test_ls.append([])\n"
   ]
  },
  {
   "cell_type": "code",
   "execution_count": null,
   "metadata": {},
   "outputs": [],
   "source": [
    "test.get_neuron_state(pop_name=\"layer1\", state=[ [i, ['wgtsum1',],] for i in range(100) ]) # 衰减有问题，电压越来越大？？？\n",
    "test.get_neuron_state(pop_name=\"layer2\", state=[ [i, ['wgtsum1',],] for i in range(100) ]) # 电压增大导致 第二层脉冲触发了， nice 发现问题 解决问题\n",
    "test.get_neuron_state(pop_name=\"layer1\", state=[ [i, ['wgtsum0',],] for i in range(100) ]) # 衰减有问题，电压越来越大？？？\n",
    "test.get_neuron_state(pop_name=\"layer2\", state=[ [i, ['wgtsum0',],] for i in range(100) ]) # 电压增大导致 第二层脉冲触发了， nice 发现问题 解决问题"
   ]
  },
  {
   "cell_type": "code",
   "execution_count": null,
   "metadata": {},
   "outputs": [],
   "source": []
  },
  {
   "cell_type": "code",
   "execution_count": 344,
   "metadata": {},
   "outputs": [],
   "source": [
    "# print(test.run_darwin3_withoutfile(spike_neurons=[[]]))\n",
    "test.get_neuron_state(pop_name=\"layer1\", state=[ [i, ['vt',],] for i in range(100) ]) # 衰减有问题，电压越来越大？？？\n",
    "test.get_neuron_state(pop_name=\"layer2\", state=[ [i, ['vt',],] for i in range(100) ]) # 电压增大导致 第二层脉冲触发了， nice 发现问题 解决问题"
   ]
  },
  {
   "cell_type": "code",
   "execution_count": 39,
   "metadata": {},
   "outputs": [],
   "source": [
    "test.get_neuron_state(pop_name=\"layer1\", state=[ [i, ['learning_status',],] for i in range(355) ]) # prt1ax 看最后7位"
   ]
  },
  {
   "cell_type": "code",
   "execution_count": 7,
   "metadata": {},
   "outputs": [],
   "source": [
    "test.get_neuron_state(pop_name=\"layer1\", state=[ [i, ['learning_status_dendrite',],] for i in range(355) ]) # prt1ax 看最后7位"
   ]
  },
  {
   "cell_type": "code",
   "execution_count": 6,
   "metadata": {},
   "outputs": [
    {
     "data": {
      "text/plain": [
       "'0xff9c0000'"
      ]
     },
     "execution_count": 6,
     "metadata": {},
     "output_type": "execute_result"
    }
   ],
   "source": [
    "hex((-100 & 0xffff)<<16)"
   ]
  },
  {
   "cell_type": "code",
   "execution_count": null,
   "metadata": {},
   "outputs": [
    {
     "data": {
      "text/plain": [
       "65280"
      ]
     },
     "execution_count": 13,
     "metadata": {},
     "output_type": "execute_result"
    }
   ],
   "source": [
    "int(hex((-1 & 0xff)<<8), 16)"
   ]
  },
  {
   "cell_type": "code",
   "execution_count": 16,
   "metadata": {},
   "outputs": [
    {
     "data": {
      "text/plain": [
       "65281"
      ]
     },
     "execution_count": 16,
     "metadata": {},
     "output_type": "execute_result"
    }
   ],
   "source": [
    "0x01 | int(hex((-1 & 0xff)<<8), 16)"
   ]
  },
  {
   "cell_type": "code",
   "execution_count": 5,
   "metadata": {},
   "outputs": [
    {
     "data": {
      "text/plain": [
       "[[('output_pop', 0),\n",
       "  ('output_pop', 1),\n",
       "  ('output_pop', 2),\n",
       "  ('output_pop', 3),\n",
       "  ('output_pop', 4),\n",
       "  ('output_pop', 5),\n",
       "  ('output_pop', 6),\n",
       "  ('output_pop', 7),\n",
       "  ('output_pop', 8),\n",
       "  ('output_pop', 9),\n",
       "  ('output_pop', 10),\n",
       "  ('output_pop', 11),\n",
       "  ('output_pop', 12),\n",
       "  ('output_pop', 13),\n",
       "  ('output_pop', 14),\n",
       "  ('output_pop', 15),\n",
       "  ('output_pop', 16),\n",
       "  ('output_pop', 18),\n",
       "  ('output_pop', 17),\n",
       "  ('output_pop', 20),\n",
       "  ('output_pop', 19),\n",
       "  ('output_pop', 22),\n",
       "  ('output_pop', 21),\n",
       "  ('output_pop', 23),\n",
       "  ('output_pop', 25),\n",
       "  ('output_pop', 26),\n",
       "  ('output_pop', 27),\n",
       "  ('output_pop', 24),\n",
       "  ('output_pop', 28),\n",
       "  ('output_pop', 29),\n",
       "  ('output_pop', 31),\n",
       "  ('output_pop', 32),\n",
       "  ('output_pop', 33),\n",
       "  ('output_pop', 30),\n",
       "  ('output_pop', 34),\n",
       "  ('output_pop', 35),\n",
       "  ('output_pop', 37),\n",
       "  ('output_pop', 38),\n",
       "  ('output_pop', 39),\n",
       "  ('output_pop', 36),\n",
       "  ('output_pop', 40),\n",
       "  ('output_pop', 41),\n",
       "  ('output_pop', 43),\n",
       "  ('output_pop', 45),\n",
       "  ('output_pop', 46),\n",
       "  ('output_pop', 42),\n",
       "  ('output_pop', 47),\n",
       "  ('output_pop', 48),\n",
       "  ('output_pop', 50),\n",
       "  ('output_pop', 51),\n",
       "  ('output_pop', 52),\n",
       "  ('output_pop', 49),\n",
       "  ('output_pop', 53),\n",
       "  ('output_pop', 54),\n",
       "  ('output_pop', 56),\n",
       "  ('output_pop', 57),\n",
       "  ('output_pop', 58),\n",
       "  ('output_pop', 55),\n",
       "  ('output_pop', 59),\n",
       "  ('output_pop', 60),\n",
       "  ('output_pop', 62),\n",
       "  ('output_pop', 63),\n",
       "  ('output_pop', 64),\n",
       "  ('output_pop', 61),\n",
       "  ('output_pop', 65),\n",
       "  ('output_pop', 66),\n",
       "  ('output_pop', 68),\n",
       "  ('output_pop', 69),\n",
       "  ('output_pop', 70),\n",
       "  ('output_pop', 67),\n",
       "  ('output_pop', 71),\n",
       "  ('output_pop', 72),\n",
       "  ('output_pop', 74),\n",
       "  ('output_pop', 75),\n",
       "  ('output_pop', 76),\n",
       "  ('output_pop', 73),\n",
       "  ('output_pop', 77),\n",
       "  ('output_pop', 78),\n",
       "  ('output_pop', 80),\n",
       "  ('output_pop', 81),\n",
       "  ('output_pop', 82),\n",
       "  ('output_pop', 79),\n",
       "  ('output_pop', 83),\n",
       "  ('output_pop', 84),\n",
       "  ('output_pop', 86),\n",
       "  ('output_pop', 88),\n",
       "  ('output_pop', 89),\n",
       "  ('output_pop', 85),\n",
       "  ('output_pop', 90),\n",
       "  ('output_pop', 91),\n",
       "  ('output_pop', 93),\n",
       "  ('output_pop', 94),\n",
       "  ('output_pop', 95),\n",
       "  ('output_pop', 92),\n",
       "  ('output_pop', 96),\n",
       "  ('output_pop', 97),\n",
       "  ('output_pop', 99),\n",
       "  ('output_pop', 98)]]"
      ]
     },
     "execution_count": 5,
     "metadata": {},
     "output_type": "execute_result"
    }
   ],
   "source": [
    "test.run_darwin3_withoutfile([[]])\n",
    "\n",
    "# test.get_neuron_state(pop_name=\"layer1\", state=[ [0, ['inference_status',],],  [1, ['inference_status',],] ]) # 查看work mod\n",
    "# test.get_neuron_state(pop_name=\"layer1\", state=[ [i, ['inference_status',],] for i in range(100) ]) # \n",
    "# test.get_neuron_state(pop_name=\"layer1\", state=[ [0, ['inference_status',],],  [1, ['inference_status',],] ]) # 查看work mod\n",
    "# test.get_neuron_state(pop_name=\"layer1\", state=[ [0, ['inference_status',],],  [1, ['inference_status',],] ], offset=0x05) # 查看work mod\n"
   ]
  },
  {
   "cell_type": "code",
   "execution_count": 4,
   "metadata": {},
   "outputs": [
    {
     "name": "stdout",
     "output_type": "stream",
     "text": [
      "[[0 0 0 1 0 0 0 0 0 0 0 0 0 0 0 0 0 0 0 0 0 0 0 0 0 0 0 0 0 0 0 0 0 0 0 0\n",
      "  0 0 0 0 0 0 0 0 0 0 0 0 0 0 0 0 0 0 0 0 0 0 0 0 0 0 0 0 0 0 0 0 0 0 0 0\n",
      "  0 0 0 0 0 0 0 0 0 0 0 0 0 0 0 0 0 0 0 0 0 0 0 0 0 0 0 0 0 0 0 0 0 0 0 0\n",
      "  0 0 0 0 0 0 0 0 0 0 0 0 0 0 0 0 0 0 0 0 0 0 0 0 0 0 0 0 0 0 0 0 0 0 0 0\n",
      "  0 0 0 0 0 0 0 0 0 0 0 0 0 0 0 0 0 0 0 0 0 0 0 0 0 0 0 0 0 0 0 0 0 0 0 0\n",
      "  0 0 0 0 0 0 0 0 0 0 0 0 0 0 0 0 0 0 0 0 0 0 0 0 0 0 0 0 0 0 0 0 0 0 0 0\n",
      "  0 0 0 0 0 0 0 0 0 0 0 0 0 0 0 0 0 0 0 0 0 0 0 0 0 0 0 0 0 0 0 0 0 0 0 0\n",
      "  0 0 0 0]]\n",
      "[[]]\n"
     ]
    }
   ],
   "source": [
    "import numpy as np\n",
    "def input_func(input_ls, unit_conversion=0.8, dt=0.1):# 这连个参数对标spaic的possion_encoder\n",
    "    # import numpy as np\n",
    "    # rand_input = np.where(np.random.rand(*input_ls.shape) < input_ls * unit_conversion * dt)\n",
    "    a = (np.random.rand(*input_ls.shape) < input_ls * unit_conversion * dt)\n",
    "    return np.nonzero(a[0].astype(int))[0]\n",
    "\n",
    "input_ls = np.array([[1 if i==3 else 0 for i in range(256)]])\n",
    "print(input_ls)\n",
    "out = test.run_darwin3_withoutfile(spike_neurons=input_ls)\n",
    "print(out)"
   ]
  },
  {
   "cell_type": "code",
   "execution_count": 4,
   "metadata": {},
   "outputs": [],
   "source": [
    "test.get_neuron_state(pop_name=\"layer1\", state=[ [0, ['inference_status',],],  [1, ['inference_status',],] ]) # 查看work mod"
   ]
  },
  {
   "cell_type": "code",
   "execution_count": 177,
   "metadata": {},
   "outputs": [],
   "source": [
    "test.get_neuron_state(pop_name=\"layer1\", state=[ [0, ['learning_status',],],  [1, ['learning_status',],] ]) # 查看work mod"
   ]
  },
  {
   "cell_type": "code",
   "execution_count": 53,
   "metadata": {},
   "outputs": [],
   "source": [
    "test.get_neuron_state(pop_name=\"layer1\", state=[ [0, ['config_reg',],],  [1, ['config_reg',],] ], offset=0x19) # 查看work mod"
   ]
  },
  {
   "cell_type": "code",
   "execution_count": 186,
   "metadata": {},
   "outputs": [
    {
     "name": "stdout",
     "output_type": "stream",
     "text": [
      "yyyyyy\n",
      "yyyyyy\n"
     ]
    }
   ],
   "source": [
    "test.get_neuron_state(pop_name=\"layer1\", state=[ [0, ['config_reg',],],  [1, ['config_reg',],] ], offset=0x0B) # 查看 pra0"
   ]
  },
  {
   "cell_type": "code",
   "execution_count": 41,
   "metadata": {},
   "outputs": [
    {
     "name": "stdout",
     "output_type": "stream",
     "text": [
      "yyyyyy\n",
      "yyyyyy\n"
     ]
    }
   ],
   "source": [
    "test.get_neuron_state(pop_name=\"layer1\", state=[ [0, ['config_reg',],],  [1, ['config_reg',],] ], offset=0x02) # 查看 workmode"
   ]
  },
  {
   "cell_type": "code",
   "execution_count": 72,
   "metadata": {},
   "outputs": [],
   "source": [
    "test.get_neuron_state(pop_name=\"layer1\", state=[ [i, ['inference_status',],] for i in range(100) ]) # 衰减有问题，电压越来越大？？？"
   ]
  },
  {
   "cell_type": "code",
   "execution_count": 231,
   "metadata": {},
   "outputs": [],
   "source": [
    "test.get_neuron_state(pop_name=\"layer1\", state=[ [i, ['learning_status',],] for i in range(100) ]) # prt1ax 看最后7位"
   ]
  },
  {
   "cell_type": "code",
   "execution_count": null,
   "metadata": {},
   "outputs": [
    {
     "name": "stdout",
     "output_type": "stream",
     "text": [
      "(array([ 1,  4,  5,  8,  9, 11, 12, 14, 19, 22, 28, 31, 41, 49, 53, 57, 60,\n",
      "       64, 66, 70, 71, 76, 77, 78, 88, 91], dtype=int64),)\n",
      "[1. 1. 1. 1. 1. 1. 1. 1. 1. 1. 1. 1. 1. 1. 1. 1. 1. 1. 1. 1. 1. 1. 1. 1.\n",
      " 1. 1.]\n"
     ]
    }
   ],
   "source": [
    "ls = np.zeros(100,)\n",
    "def input_func(input_ls, unit_conversion=0.8, dt=0.1):# 这连个参数对标spaic的possion_encoder\n",
    "    # import numpy as np\n",
    "    # rand_input = np.where(np.random.rand(*input_ls.shape) < input_ls * unit_conversion * dt)\n",
    "    a = (np.random.rand(*input_ls.shape) < input_ls * unit_conversion * dt)\n",
    "    return np.nonzero(a[0].astype(int))[0]\n",
    "\n",
    "for _ in range(25):\n",
    "    input_ls = np.array([[1 if i==1 or i == 4 else 0.01 for i in range(16)] * 16])\n",
    "    a = input_func(input_ls)\n",
    "    out = test.run_darwin3_withoutfile(spike_neurons=[a])\n",
    "\n",
    "    for i in range(len(out[0])):\n",
    "        index = out[0][i][1]\n",
    "        ls[index] += 1\n",
    "print(ls.nonzero())\n",
    "print(ls[ls.nonzero()])\n",
    "\n",
    "\n",
    "# 那这样的话就是调出来了。 下面就是要把  Darwin的初始化还有step 的函数 放到 狗的代码里面 把spaic 的位置换成darwin stdp"
   ]
  },
  {
   "cell_type": "code",
   "execution_count": null,
   "metadata": {},
   "outputs": [
    {
     "name": "stdout",
     "output_type": "stream",
     "text": [
      "2\n",
      "2\n"
     ]
    }
   ],
   "source": [
    "test.get_neuron_state(pop_name=\"layer1\", state=[ [0, ['npu_reg',],],  [1, ['npu_reg',],] ], offset=0x02)"
   ]
  },
  {
   "cell_type": "code",
   "execution_count": 254,
   "metadata": {},
   "outputs": [],
   "source": [
    "def input_func(input_ls, unit_conversion=0.8, dt=0.1):# 这连个参数对标spaic的possion_encoder\n",
    "    # import numpy as np\n",
    "    # rand_input = np.where(np.random.rand(*input_ls.shape) < input_ls * unit_conversion * dt)\n",
    "    a = (np.random.rand(*input_ls.shape) < input_ls * unit_conversion * dt)\n",
    "\n",
    "    return np.nonzero(a[0].astype(int))[0]"
   ]
  },
  {
   "cell_type": "code",
   "execution_count": 85,
   "metadata": {},
   "outputs": [],
   "source": [
    "import numpy as np"
   ]
  },
  {
   "cell_type": "code",
   "execution_count": 140,
   "metadata": {},
   "outputs": [
    {
     "data": {
      "text/plain": [
       "tensor([[126.,  19.,  39.,  ...,  71.,  34.,  25.],\n",
       "        [ 67.,  75.,  18.,  ...,  45.,  21.,  66.],\n",
       "        [ 44.,  56.,  83.,  ...,  25.,  63., 109.],\n",
       "        ...,\n",
       "        [ 99.,  43.,  86.,  ..., 127., 114.,  48.],\n",
       "        [123.,  67.,  39.,  ..., 105.,  42.,  78.],\n",
       "        [ 92.,  52.,  49.,  ..., 127.,  47.,  39.]], device='cuda:0',\n",
       "       requires_grad=True)"
      ]
     },
     "execution_count": 140,
     "metadata": {},
     "output_type": "execute_result"
    }
   ],
   "source": [
    "torch.load(r\"C:\\Users\\bignuts\\Desktop\\ZJU\\hang_zhou\\alcohol\\quant_input_layer1.pth\")"
   ]
  },
  {
   "cell_type": "code",
   "execution_count": 71,
   "metadata": {},
   "outputs": [],
   "source": [
    "test.get_neuron_state(pop_name=\"layer2\", state=[ [0, ['inference_status',],],  [1, ['inference_status',],]])  # 19"
   ]
  },
  {
   "cell_type": "code",
   "execution_count": null,
   "metadata": {},
   "outputs": [],
   "source": [
    "\n",
    "import time\n",
    "for _ in range(25):\n",
    "    print(test.run_darwin3_withoutfile(spike_neurons=[[]])) # \n",
    "    # time.sleep(0.4)\n",
    "test.get_neuron_state(pop_name=\"layer1\", state=[ [0, ['inference_status',],],  [1, ['inference_status',],]])  # 19"
   ]
  },
  {
   "cell_type": "code",
   "execution_count": null,
   "metadata": {},
   "outputs": [],
   "source": [
    "print(test.run_darwin3_withoutfile(spike_neurons=[[]]))\n",
    "test.get_neuron_state(pop_name=\"layer1\", state=[ [0, ['inference_status',],],  [1, ['inference_status',],]]) # 查看推理存储器"
   ]
  },
  {
   "cell_type": "code",
   "execution_count": null,
   "metadata": {},
   "outputs": [],
   "source": [
    "test.get_neuron_state(pop_name=\"layer2\", state=[ [i, ['vt',],] for i in range(100) ])"
   ]
  },
  {
   "cell_type": "code",
   "execution_count": null,
   "metadata": {},
   "outputs": [],
   "source": [
    "test.get_neuron_state(pop_name=\"layer1\", state=[ [0, ['npu_reg',],],  [1, ['npu_reg',],] ], offset=0x05) # 查看vth 寄存器"
   ]
  },
  {
   "cell_type": "code",
   "execution_count": null,
   "metadata": {},
   "outputs": [],
   "source": [
    "test.get_neuron_state(pop_name=\"layer1\", state=[ [0, ['vt',],],  [1, ['vt',],] ])"
   ]
  },
  {
   "cell_type": "code",
   "execution_count": null,
   "metadata": {},
   "outputs": [],
   "source": [
    "import time"
   ]
  },
  {
   "cell_type": "code",
   "execution_count": null,
   "metadata": {},
   "outputs": [],
   "source": [
    "for i in range(100):\n",
    "    test.get_neuron_state(pop_name=\"layer1\", state=[ [i, ['vt',],], ])\n",
    "    time.sleep(0.5)\n"
   ]
  },
  {
   "cell_type": "code",
   "execution_count": null,
   "metadata": {},
   "outputs": [],
   "source": [
    "print(test.run_darwin3_withoutfile(spike_neurons=test_ls))\n"
   ]
  },
  {
   "cell_type": "code",
   "execution_count": null,
   "metadata": {},
   "outputs": [],
   "source": [
    "\n"
   ]
  },
  {
   "cell_type": "code",
   "execution_count": null,
   "metadata": {},
   "outputs": [],
   "source": [
    "# test.get_neuron_state(pop_name=\"layer1\", state=[ [0, ['inference_status',],],  [1, ['inference_status',],]]) # 查看推理存储器\n",
    "print(test.run_darwin3_withoutfile(spike_neurons=[[]]))\n",
    "test.get_neuron_state(pop_name=\"layer1\", state=[ [0, ['vt',],],  [1, ['vt',],] ])\n",
    "# test.get_neuron_state(pop_name=\"layer1\", state=[ [0, ['inference_status',],],  [1, ['inference_status',],]]) # 查看推理存储器\n"
   ]
  },
  {
   "cell_type": "code",
   "execution_count": 12,
   "metadata": {},
   "outputs": [
    {
     "name": "stdout",
     "output_type": "stream",
     "text": [
      "2\n",
      "2\n"
     ]
    }
   ],
   "source": [
    "test.get_neuron_state(pop_name=\"layer1\", state=[ [0, ['npu_reg',],],  [1, ['npu_reg',],] ], offset=0x02)"
   ]
  },
  {
   "cell_type": "code",
   "execution_count": null,
   "metadata": {},
   "outputs": [],
   "source": [
    "\n",
    "print(test.run_darwin3_withoutfile(spike_neurons=[[7,]]))\n",
    "test.get_neuron_state(pop_name=\"layer1\", state=[ [0, ['vt',],],  [1, ['vt',],] ])\n",
    "\n",
    "# test.get_neuron_state(pop_name=\"layer1\", state=[ [0, ['inference_status',],],  [1, ['inference_status',],]]) # 查看推理存储器 这是 第四次 输入 应该进入了下一个周期，所以应该电压会相对高一点"
   ]
  },
  {
   "cell_type": "code",
   "execution_count": null,
   "metadata": {},
   "outputs": [],
   "source": [
    "print(test.run_darwin3_withoutfile(spike_neurons=[[7,8,9]]))\n",
    "test.get_neuron_state(pop_name=\"layer1\", state=[ [0, ['vt',],],  [1, ['vt',],] ])\n"
   ]
  },
  {
   "cell_type": "code",
   "execution_count": null,
   "metadata": {},
   "outputs": [],
   "source": [
    "test.get_neuron_state(pop_name=\"layer1\", state=[ [0, ['vt',],],  [1, ['vt',],] ])\n",
    "# test.get_neuron_state(pop_name=\"layer1\", state=[ [0, ['npu_reg',],],  [1, ['npu_reg',],] ], offset=0x01)"
   ]
  },
  {
   "cell_type": "code",
   "execution_count": null,
   "metadata": {},
   "outputs": [],
   "source": [
    "test.run_darwin3_withoutfile(spike_neurons=[[5,6,7,8],[]])\n",
    "test.get_neuron_state(pop_name=\"layer1\", state=[ [0, ['inference_status',],],  [1, ['inference_status',],]])"
   ]
  },
  {
   "cell_type": "code",
   "execution_count": null,
   "metadata": {},
   "outputs": [],
   "source": [
    "test.get_neuron_state(pop_name=\"layer1\", state=[ [0, ['npu_reg',],],  [1, ['npu_reg',],] ], offset=0x05) # 查看vth 寄存器"
   ]
  },
  {
   "cell_type": "code",
   "execution_count": null,
   "metadata": {},
   "outputs": [],
   "source": [
    "import torch\n",
    "torch.load(r\"C:\\Users\\bignuts\\Desktop\\ZJU\\hang_zhou\\alcohol\\save_lif_200_quant\\parameters\\_variables.pt\")"
   ]
  },
  {
   "cell_type": "code",
   "execution_count": null,
   "metadata": {},
   "outputs": [],
   "source": [
    "test.run_darwin3_withoutfile(spike_neurons=[[]])"
   ]
  },
  {
   "cell_type": "code",
   "execution_count": null,
   "metadata": {},
   "outputs": [],
   "source": [
    "test.get_neuron_state(pop_name=\"layer1\", state=[ [0, ['npu_reg',],],  [1, ['npu_reg',],] ], offset=0x00)"
   ]
  },
  {
   "cell_type": "code",
   "execution_count": null,
   "metadata": {},
   "outputs": [],
   "source": [
    "test.run_darwin3_withoutfile(spike_neurons=test_ls)"
   ]
  },
  {
   "cell_type": "code",
   "execution_count": null,
   "metadata": {},
   "outputs": [],
   "source": [
    "test.get_neuron_state(pop_name=\"layer1\", state=[ [0, ['vt',],],  [1, ['vt',],] ])"
   ]
  },
  {
   "cell_type": "code",
   "execution_count": null,
   "metadata": {},
   "outputs": [],
   "source": [
    "import torch\n",
    "torch.load(r\"C:\\Users\\bignuts\\Desktop\\ZJU\\hang_zhou\\alcohol\\save_200_quant\\parameters\\_parameters_dict.pt\") # 加载权重\n",
    "# weight_input0_to_layer1 = emo_net_weight[r'autoname9<net>_connection1<con>:autoname9<net>_layer1<neg><-autoname9<net>_input<nod>:{weight}'].detach().cpu() # "
   ]
  },
  {
   "cell_type": "code",
   "execution_count": null,
   "metadata": {},
   "outputs": [],
   "source": [
    "vth = torch.load(r\"C:\\Users\\bignuts\\Desktop\\ZJU\\hang_zhou\\alcohol\\save_200\\parameters\\_variables.pt\") # 加载权重\n",
    "vth"
   ]
  },
  {
   "cell_type": "code",
   "execution_count": null,
   "metadata": {},
   "outputs": [],
   "source": [
    "import torch\n",
    "torch.load(r\"C:\\Users\\bignuts\\Desktop\\ZJU\\hang_zhou\\alcohol\\save_lif_200_quant\\parameters\\_variables.pt\") # 加载权重"
   ]
  },
  {
   "cell_type": "code",
   "execution_count": null,
   "metadata": {},
   "outputs": [],
   "source": [
    "vth = vth['autoname9<net>_layer1<neg>:{v_th}'].detach().cpu()"
   ]
  },
  {
   "cell_type": "code",
   "execution_count": null,
   "metadata": {},
   "outputs": [],
   "source": [
    "vth"
   ]
  },
  {
   "cell_type": "code",
   "execution_count": null,
   "metadata": {},
   "outputs": [],
   "source": [
    "import numpy as np"
   ]
  },
  {
   "cell_type": "code",
   "execution_count": null,
   "metadata": {},
   "outputs": [],
   "source": [
    "test.get_neuron_state(pop_name=\"layer1\", state=[ [0, ['npu_reg',],],  [1, ['npu_reg',],] ], offset=0x00)"
   ]
  },
  {
   "cell_type": "code",
   "execution_count": null,
   "metadata": {},
   "outputs": [],
   "source": [
    "test.get_neuron_state(pop_name=\"layer1\", state=[ [0, ['config_reg',],],  [1, ['config_reg',],] ], offset=0x16)"
   ]
  },
  {
   "cell_type": "code",
   "execution_count": null,
   "metadata": {},
   "outputs": [],
   "source": [
    "import torch\n",
    "torch.load(r\"C:\\Users\\bignuts\\Desktop\\ZJU\\hang_zhou\\alcohol\\quant_input_layer1.pth\").detach().cpu().numpy()"
   ]
  },
  {
   "cell_type": "code",
   "execution_count": 43,
   "metadata": {},
   "outputs": [
    {
     "data": {
      "text/plain": [
       "'0xff'"
      ]
     },
     "execution_count": 43,
     "metadata": {},
     "output_type": "execute_result"
    }
   ],
   "source": [
    "hex((-1 & 0xff))"
   ]
  },
  {
   "cell_type": "code",
   "execution_count": null,
   "metadata": {},
   "outputs": [],
   "source": [
    "-24000\n",
    "2**16"
   ]
  },
  {
   "cell_type": "code",
   "execution_count": null,
   "metadata": {},
   "outputs": [],
   "source": [
    "-52 * 400"
   ]
  },
  {
   "cell_type": "code",
   "execution_count": null,
   "metadata": {},
   "outputs": [],
   "source": [
    "3 / 32"
   ]
  },
  {
   "cell_type": "code",
   "execution_count": null,
   "metadata": {},
   "outputs": [],
   "source": [
    "torch.load(r\"C:\\Users\\bignuts\\Desktop\\ZJU\\hang_zhou\\alcohol\\hang_zhou_spaic\\save_600\\real_ysc_model_mic\\parameters\\_parameters_dict.pt\")"
   ]
  },
  {
   "cell_type": "code",
   "execution_count": null,
   "metadata": {},
   "outputs": [],
   "source": [
    "hex(-40*400 & 0xffff)"
   ]
  },
  {
   "cell_type": "code",
   "execution_count": 60,
   "metadata": {},
   "outputs": [
    {
     "data": {
      "text/plain": [
       "array([[126.,  19.,  39., ...,  71.,  34.,  25.],\n",
       "       [ 67.,  75.,  18., ...,  45.,  21.,  66.],\n",
       "       [ 44.,  56.,  83., ...,  25.,  63., 109.],\n",
       "       ...,\n",
       "       [ 99.,  43.,  86., ..., 127., 114.,  48.],\n",
       "       [123.,  67.,  39., ..., 105.,  42.,  78.],\n",
       "       [ 92.,  52.,  49., ..., 127.,  47.,  39.]], dtype=float32)"
      ]
     },
     "execution_count": 60,
     "metadata": {},
     "output_type": "execute_result"
    }
   ],
   "source": [
    "emo_net_weight = torch.load(r\"C:\\Users\\bignuts\\Desktop\\ZJU\\hang_zhou\\alcohol\\quant_input_layer1.pth\").detach().cpu().numpy()\n",
    "emo_net_weight"
   ]
  },
  {
   "cell_type": "code",
   "execution_count": 61,
   "metadata": {},
   "outputs": [
    {
     "data": {
      "text/plain": [
       "(100, 256)"
      ]
     },
     "execution_count": 61,
     "metadata": {},
     "output_type": "execute_result"
    }
   ],
   "source": [
    "emo_net_weight.shape"
   ]
  },
  {
   "cell_type": "code",
   "execution_count": 63,
   "metadata": {},
   "outputs": [
    {
     "data": {
      "text/plain": [
       "(100,)"
      ]
     },
     "execution_count": 63,
     "metadata": {},
     "output_type": "execute_result"
    }
   ],
   "source": [
    "emo_net_weight[:, 0].shape"
   ]
  },
  {
   "cell_type": "code",
   "execution_count": null,
   "metadata": {},
   "outputs": [],
   "source": []
  }
 ],
 "metadata": {
  "kernelspec": {
   "display_name": "Python 3",
   "language": "python",
   "name": "python3"
  },
  "language_info": {
   "codemirror_mode": {
    "name": "ipython",
    "version": 3
   },
   "file_extension": ".py",
   "mimetype": "text/x-python",
   "name": "python",
   "nbconvert_exporter": "python",
   "pygments_lexer": "ipython3",
   "version": "3.10.10"
  }
 },
 "nbformat": 4,
 "nbformat_minor": 2
}
