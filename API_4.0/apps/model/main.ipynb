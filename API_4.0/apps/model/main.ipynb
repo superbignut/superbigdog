{
 "cells": [
  {
   "cell_type": "code",
   "execution_count": 274,
   "metadata": {},
   "outputs": [],
   "source": [
    "import os\n",
    "import sys\n",
    "import numpy as np\n",
    "import torch\n",
    "sys.path.append(\"../scripts\")\n",
    "from darwin3_runtime_api import darwin3_device\n",
    "from contextlib import redirect_stdout\n",
    "\n",
    "# test = darwin3_device.darwin3_device(app_path='../', step_size=10000, ip=['192.168.1.90']) # 172.31.111.35\n",
    "test = darwin3_device.darwin3_device(app_path='../', step_size=1000_000, ip=['172.31.111.35'], spk_print=True) # 172.31.111.35"
   ]
  },
  {
   "cell_type": "code",
   "execution_count": 339,
   "metadata": {},
   "outputs": [
    {
     "name": "stdout",
     "output_type": "stream",
     "text": [
      "Please check the information on the Darwin3 development board \n",
      "to determine if the configuration was successful.\n"
     ]
    }
   ],
   "source": [
    "test.reset()\n"
   ]
  },
  {
   "cell_type": "code",
   "execution_count": 340,
   "metadata": {},
   "outputs": [
    {
     "name": "stdout",
     "output_type": "stream",
     "text": [
      "Please check the information on the Darwin3 development board \n",
      "to determine if the configuration was successful.\n"
     ]
    }
   ],
   "source": [
    "test.darwin3_init(333)"
   ]
  },
  {
   "cell_type": "code",
   "execution_count": 341,
   "metadata": {},
   "outputs": [],
   "source": [
    "test.deploy_config()"
   ]
  },
  {
   "cell_type": "code",
   "execution_count": null,
   "metadata": {},
   "outputs": [],
   "source": [
    "sub_test_ls = [2]\n",
    "test_ls = [sub_test_ls] * 20\n",
    "test_ls\n"
   ]
  },
  {
   "cell_type": "code",
   "execution_count": null,
   "metadata": {},
   "outputs": [],
   "source": [
    "test_ls.append([])\n"
   ]
  },
  {
   "cell_type": "code",
   "execution_count": 178,
   "metadata": {},
   "outputs": [],
   "source": [
    "test.get_neuron_state(pop_name=\"layer1\", state=[ [i, ['wgtsum1',],] for i in range(100) ]) # 衰减有问题，电压越来越大？？？\n",
    "test.get_neuron_state(pop_name=\"layer2\", state=[ [i, ['wgtsum1',],] for i in range(100) ]) # 电压增大导致 第二层脉冲触发了， nice 发现问题 解决问题\n",
    "test.get_neuron_state(pop_name=\"layer1\", state=[ [i, ['wgtsum0',],] for i in range(100) ]) # 衰减有问题，电压越来越大？？？\n",
    "test.get_neuron_state(pop_name=\"layer2\", state=[ [i, ['wgtsum0',],] for i in range(100) ]) # 电压增大导致 第二层脉冲触发了， nice 发现问题 解决问题"
   ]
  },
  {
   "cell_type": "code",
   "execution_count": null,
   "metadata": {},
   "outputs": [],
   "source": []
  },
  {
   "cell_type": "code",
   "execution_count": 344,
   "metadata": {},
   "outputs": [],
   "source": [
    "# print(test.run_darwin3_withoutfile(spike_neurons=[[]]))\n",
    "test.get_neuron_state(pop_name=\"layer1\", state=[ [i, ['vt',],] for i in range(100) ]) # 衰减有问题，电压越来越大？？？\n",
    "test.get_neuron_state(pop_name=\"layer2\", state=[ [i, ['vt',],] for i in range(100) ]) # 电压增大导致 第二层脉冲触发了， nice 发现问题 解决问题"
   ]
  },
  {
   "cell_type": "code",
   "execution_count": 345,
   "metadata": {},
   "outputs": [],
   "source": [
    "# print(test.run_darwin3_withoutfile(spike_neurons=[[]]))\n",
    "test.get_neuron_state(pop_name=\"layer2\", state=[ [0, ['inference_status',],],  [1, ['inference_status',],]]) # 查看推理存储器\n",
    "# print(test.run_darwin3_withoutfile(spike_neurons=[[0,]]))\n",
    "\n"
   ]
  },
  {
   "cell_type": "code",
   "execution_count": 321,
   "metadata": {},
   "outputs": [
    {
     "data": {
      "text/plain": [
       "array([250], dtype=int64)"
      ]
     },
     "execution_count": 321,
     "metadata": {},
     "output_type": "execute_result"
    }
   ],
   "source": [
    "input_ls = np.array([[1 if i==1 or i == 4 else 0.2 for i in range(16)] * 16])\n",
    "a = input_func(input_ls)\n",
    "a"
   ]
  },
  {
   "cell_type": "code",
   "execution_count": 322,
   "metadata": {},
   "outputs": [
    {
     "name": "stdout",
     "output_type": "stream",
     "text": [
      "[[('output_pop', 65), ('output_pop', 99)]]\n"
     ]
    }
   ],
   "source": [
    "out = test.run_darwin3_withoutfile(spike_neurons=[a])\n",
    "print(out)\n",
    "# input_ls\n",
    "# torch.rand(self.shape, device=self.device).le(self.source * self.unit_conversion * self.dt).type(self._backend.data_type)"
   ]
  },
  {
   "cell_type": "code",
   "execution_count": null,
   "metadata": {},
   "outputs": [
    {
     "name": "stdout",
     "output_type": "stream",
     "text": [
      "(array([42, 43, 56, 69, 92], dtype=int64),)\n",
      "[1. 1. 1. 1. 1.]\n"
     ]
    }
   ],
   "source": [
    "ls = np.zeros(100,)\n",
    "def input_func(input_ls, unit_conversion=0.8, dt=0.1):# 这连个参数对标spaic的possion_encoder\n",
    "    # import numpy as np\n",
    "    # rand_input = np.where(np.random.rand(*input_ls.shape) < input_ls * unit_conversion * dt)\n",
    "    a = (np.random.rand(*input_ls.shape) < input_ls * unit_conversion * dt)\n",
    "    return np.nonzero(a[0].astype(int))[0]\n",
    "\n",
    "for _ in range(25):\n",
    "    input_ls = np.array([[1 if i==2 or i == 5 else 0.01 for i in range(16)] * 16])\n",
    "    a = input_func(input_ls)\n",
    "    out = test.run_darwin3_withoutfile(spike_neurons=[a])\n",
    "\n",
    "    for i in range(len(out[0])):\n",
    "        index = out[0][i][1]\n",
    "        ls[index] += 1\n",
    "print(ls.nonzero())\n",
    "print(ls[ls.nonzero()])\n",
    "\n",
    "\n",
    "\n",
    "\n",
    "# 那这样的话就是调出来了。 下面就是要把  Darwin的初始化还有step 的函数 放到 狗的代码里面 把spaic 的位置换成darwin stdp"
   ]
  },
  {
   "cell_type": "code",
   "execution_count": 254,
   "metadata": {},
   "outputs": [],
   "source": [
    "def input_func(input_ls, unit_conversion=0.8, dt=0.1):# 这连个参数对标spaic的possion_encoder\n",
    "    # import numpy as np\n",
    "    # rand_input = np.where(np.random.rand(*input_ls.shape) < input_ls * unit_conversion * dt)\n",
    "    a = (np.random.rand(*input_ls.shape) < input_ls * unit_conversion * dt)\n",
    "\n",
    "    return np.nonzero(a[0].astype(int))[0]"
   ]
  },
  {
   "cell_type": "code",
   "execution_count": 85,
   "metadata": {},
   "outputs": [],
   "source": [
    "import numpy as np"
   ]
  },
  {
   "cell_type": "code",
   "execution_count": 140,
   "metadata": {},
   "outputs": [
    {
     "data": {
      "text/plain": [
       "tensor([[126.,  19.,  39.,  ...,  71.,  34.,  25.],\n",
       "        [ 67.,  75.,  18.,  ...,  45.,  21.,  66.],\n",
       "        [ 44.,  56.,  83.,  ...,  25.,  63., 109.],\n",
       "        ...,\n",
       "        [ 99.,  43.,  86.,  ..., 127., 114.,  48.],\n",
       "        [123.,  67.,  39.,  ..., 105.,  42.,  78.],\n",
       "        [ 92.,  52.,  49.,  ..., 127.,  47.,  39.]], device='cuda:0',\n",
       "       requires_grad=True)"
      ]
     },
     "execution_count": 140,
     "metadata": {},
     "output_type": "execute_result"
    }
   ],
   "source": [
    "torch.load(r\"C:\\Users\\bignuts\\Desktop\\ZJU\\hang_zhou\\alcohol\\quant_input_layer1.pth\")"
   ]
  },
  {
   "cell_type": "code",
   "execution_count": 71,
   "metadata": {},
   "outputs": [],
   "source": [
    "test.get_neuron_state(pop_name=\"layer2\", state=[ [0, ['inference_status',],],  [1, ['inference_status',],]])  # 19"
   ]
  },
  {
   "cell_type": "code",
   "execution_count": null,
   "metadata": {},
   "outputs": [],
   "source": [
    "\n",
    "import time\n",
    "for _ in range(25):\n",
    "    print(test.run_darwin3_withoutfile(spike_neurons=[[]])) # \n",
    "    # time.sleep(0.4)\n",
    "test.get_neuron_state(pop_name=\"layer1\", state=[ [0, ['inference_status',],],  [1, ['inference_status',],]])  # 19"
   ]
  },
  {
   "cell_type": "code",
   "execution_count": null,
   "metadata": {},
   "outputs": [],
   "source": [
    "print(test.run_darwin3_withoutfile(spike_neurons=[[]]))\n",
    "test.get_neuron_state(pop_name=\"layer1\", state=[ [0, ['inference_status',],],  [1, ['inference_status',],]]) # 查看推理存储器"
   ]
  },
  {
   "cell_type": "code",
   "execution_count": null,
   "metadata": {},
   "outputs": [],
   "source": [
    "test.get_neuron_state(pop_name=\"layer2\", state=[ [i, ['vt',],] for i in range(100) ])"
   ]
  },
  {
   "cell_type": "code",
   "execution_count": null,
   "metadata": {},
   "outputs": [],
   "source": [
    "test.get_neuron_state(pop_name=\"layer1\", state=[ [0, ['npu_reg',],],  [1, ['npu_reg',],] ], offset=0x05) # 查看vth 寄存器"
   ]
  },
  {
   "cell_type": "code",
   "execution_count": null,
   "metadata": {},
   "outputs": [],
   "source": [
    "test.get_neuron_state(pop_name=\"layer1\", state=[ [0, ['vt',],],  [1, ['vt',],] ])"
   ]
  },
  {
   "cell_type": "code",
   "execution_count": null,
   "metadata": {},
   "outputs": [],
   "source": [
    "import time"
   ]
  },
  {
   "cell_type": "code",
   "execution_count": null,
   "metadata": {},
   "outputs": [],
   "source": [
    "for i in range(100):\n",
    "    test.get_neuron_state(pop_name=\"layer1\", state=[ [i, ['vt',],], ])\n",
    "    time.sleep(0.5)\n"
   ]
  },
  {
   "cell_type": "code",
   "execution_count": null,
   "metadata": {},
   "outputs": [],
   "source": [
    "print(test.run_darwin3_withoutfile(spike_neurons=test_ls))\n"
   ]
  },
  {
   "cell_type": "code",
   "execution_count": null,
   "metadata": {},
   "outputs": [],
   "source": [
    "\n"
   ]
  },
  {
   "cell_type": "code",
   "execution_count": null,
   "metadata": {},
   "outputs": [],
   "source": [
    "# test.get_neuron_state(pop_name=\"layer1\", state=[ [0, ['inference_status',],],  [1, ['inference_status',],]]) # 查看推理存储器\n",
    "print(test.run_darwin3_withoutfile(spike_neurons=[[]]))\n",
    "test.get_neuron_state(pop_name=\"layer1\", state=[ [0, ['vt',],],  [1, ['vt',],] ])\n",
    "# test.get_neuron_state(pop_name=\"layer1\", state=[ [0, ['inference_status',],],  [1, ['inference_status',],]]) # 查看推理存储器\n"
   ]
  },
  {
   "cell_type": "code",
   "execution_count": null,
   "metadata": {},
   "outputs": [],
   "source": [
    "test.get_neuron_state(pop_name=\"layer1\", state=[ [0, ['npu_reg',],],  [1, ['npu_reg',],] ], offset=0x06) # 查看vth 寄存器"
   ]
  },
  {
   "cell_type": "code",
   "execution_count": null,
   "metadata": {},
   "outputs": [],
   "source": [
    "\n",
    "print(test.run_darwin3_withoutfile(spike_neurons=[[7,]]))\n",
    "test.get_neuron_state(pop_name=\"layer1\", state=[ [0, ['vt',],],  [1, ['vt',],] ])\n",
    "\n",
    "# test.get_neuron_state(pop_name=\"layer1\", state=[ [0, ['inference_status',],],  [1, ['inference_status',],]]) # 查看推理存储器 这是 第四次 输入 应该进入了下一个周期，所以应该电压会相对高一点"
   ]
  },
  {
   "cell_type": "code",
   "execution_count": null,
   "metadata": {},
   "outputs": [],
   "source": [
    "print(test.run_darwin3_withoutfile(spike_neurons=[[7,8,9]]))\n",
    "test.get_neuron_state(pop_name=\"layer1\", state=[ [0, ['vt',],],  [1, ['vt',],] ])\n"
   ]
  },
  {
   "cell_type": "code",
   "execution_count": null,
   "metadata": {},
   "outputs": [],
   "source": [
    "test.get_neuron_state(pop_name=\"layer1\", state=[ [0, ['vt',],],  [1, ['vt',],] ])\n",
    "# test.get_neuron_state(pop_name=\"layer1\", state=[ [0, ['npu_reg',],],  [1, ['npu_reg',],] ], offset=0x01)"
   ]
  },
  {
   "cell_type": "code",
   "execution_count": null,
   "metadata": {},
   "outputs": [],
   "source": [
    "test.run_darwin3_withoutfile(spike_neurons=[[5,6,7,8],[]])\n",
    "test.get_neuron_state(pop_name=\"layer1\", state=[ [0, ['inference_status',],],  [1, ['inference_status',],]])"
   ]
  },
  {
   "cell_type": "code",
   "execution_count": null,
   "metadata": {},
   "outputs": [],
   "source": [
    "test.get_neuron_state(pop_name=\"layer1\", state=[ [0, ['npu_reg',],],  [1, ['npu_reg',],] ], offset=0x05) # 查看vth 寄存器"
   ]
  },
  {
   "cell_type": "code",
   "execution_count": null,
   "metadata": {},
   "outputs": [],
   "source": [
    "import torch\n",
    "torch.load(r\"C:\\Users\\bignuts\\Desktop\\ZJU\\hang_zhou\\alcohol\\save_lif_200_quant\\parameters\\_variables.pt\")"
   ]
  },
  {
   "cell_type": "code",
   "execution_count": null,
   "metadata": {},
   "outputs": [],
   "source": [
    "test.run_darwin3_withoutfile(spike_neurons=[[]])"
   ]
  },
  {
   "cell_type": "code",
   "execution_count": null,
   "metadata": {},
   "outputs": [],
   "source": [
    "test.get_neuron_state(pop_name=\"layer1\", state=[ [0, ['npu_reg',],],  [1, ['npu_reg',],] ], offset=0x00)"
   ]
  },
  {
   "cell_type": "code",
   "execution_count": null,
   "metadata": {},
   "outputs": [],
   "source": [
    "test.run_darwin3_withoutfile(spike_neurons=test_ls)"
   ]
  },
  {
   "cell_type": "code",
   "execution_count": null,
   "metadata": {},
   "outputs": [],
   "source": [
    "test.get_neuron_state(pop_name=\"layer1\", state=[ [0, ['vt',],],  [1, ['vt',],] ])"
   ]
  },
  {
   "cell_type": "code",
   "execution_count": null,
   "metadata": {},
   "outputs": [],
   "source": [
    "import torch\n",
    "torch.load(r\"C:\\Users\\bignuts\\Desktop\\ZJU\\hang_zhou\\alcohol\\save_200_quant\\parameters\\_parameters_dict.pt\") # 加载权重\n",
    "# weight_input0_to_layer1 = emo_net_weight[r'autoname9<net>_connection1<con>:autoname9<net>_layer1<neg><-autoname9<net>_input<nod>:{weight}'].detach().cpu() # "
   ]
  },
  {
   "cell_type": "code",
   "execution_count": null,
   "metadata": {},
   "outputs": [],
   "source": [
    "vth = torch.load(r\"C:\\Users\\bignuts\\Desktop\\ZJU\\hang_zhou\\alcohol\\save_200\\parameters\\_variables.pt\") # 加载权重\n",
    "vth"
   ]
  },
  {
   "cell_type": "code",
   "execution_count": null,
   "metadata": {},
   "outputs": [],
   "source": [
    "import torch\n",
    "torch.load(r\"C:\\Users\\bignuts\\Desktop\\ZJU\\hang_zhou\\alcohol\\save_lif_200_quant\\parameters\\_variables.pt\") # 加载权重"
   ]
  },
  {
   "cell_type": "code",
   "execution_count": null,
   "metadata": {},
   "outputs": [],
   "source": [
    "vth = vth['autoname9<net>_layer1<neg>:{v_th}'].detach().cpu()"
   ]
  },
  {
   "cell_type": "code",
   "execution_count": null,
   "metadata": {},
   "outputs": [],
   "source": [
    "vth"
   ]
  },
  {
   "cell_type": "code",
   "execution_count": null,
   "metadata": {},
   "outputs": [],
   "source": [
    "import numpy as np"
   ]
  },
  {
   "cell_type": "code",
   "execution_count": null,
   "metadata": {},
   "outputs": [],
   "source": [
    "test.get_neuron_state(pop_name=\"layer1\", state=[ [0, ['npu_reg',],],  [1, ['npu_reg',],] ], offset=0x00)"
   ]
  },
  {
   "cell_type": "code",
   "execution_count": null,
   "metadata": {},
   "outputs": [],
   "source": [
    "test.get_neuron_state(pop_name=\"layer1\", state=[ [0, ['config_reg',],],  [1, ['config_reg',],] ], offset=0x16)"
   ]
  },
  {
   "cell_type": "code",
   "execution_count": null,
   "metadata": {},
   "outputs": [],
   "source": [
    "import torch\n",
    "torch.load(r\"C:\\Users\\bignuts\\Desktop\\ZJU\\hang_zhou\\alcohol\\quant_input_layer1.pth\").detach().cpu().numpy()"
   ]
  },
  {
   "cell_type": "code",
   "execution_count": null,
   "metadata": {},
   "outputs": [],
   "source": [
    "a[55]"
   ]
  },
  {
   "cell_type": "code",
   "execution_count": null,
   "metadata": {},
   "outputs": [],
   "source": [
    "-24000\n",
    "2**16"
   ]
  },
  {
   "cell_type": "code",
   "execution_count": null,
   "metadata": {},
   "outputs": [],
   "source": [
    "-52 * 400"
   ]
  },
  {
   "cell_type": "code",
   "execution_count": null,
   "metadata": {},
   "outputs": [],
   "source": [
    "3 / 32"
   ]
  },
  {
   "cell_type": "code",
   "execution_count": null,
   "metadata": {},
   "outputs": [],
   "source": [
    "torch.load(r\"C:\\Users\\bignuts\\Desktop\\ZJU\\hang_zhou\\alcohol\\hang_zhou_spaic\\save_600\\real_ysc_model_mic\\parameters\\_parameters_dict.pt\")"
   ]
  },
  {
   "cell_type": "code",
   "execution_count": null,
   "metadata": {},
   "outputs": [],
   "source": [
    "hex(-40*400 & 0xffff)"
   ]
  },
  {
   "cell_type": "code",
   "execution_count": 360,
   "metadata": {},
   "outputs": [
    {
     "data": {
      "text/plain": [
       "tensor([0.0549, 0.2530, 0.9377, 0.3443, 0.0710, 0.3346, 0.8983, 0.3832, 0.5552,\n",
       "        0.3903, 0.5478, 0.6447, 0.2025, 0.3849, 0.6154, 0.7776, 0.8648, 0.9614,\n",
       "        0.3548, 0.1599, 0.3912, 0.6636, 0.7701, 0.3373, 0.2571, 0.6533, 0.1603,\n",
       "        0.5797, 0.6649, 0.1146, 0.3408, 0.3818, 0.2139, 0.1807, 0.3749, 0.8882,\n",
       "        0.1518, 0.6336, 0.0208, 0.7863, 0.2590, 0.6219, 0.9716, 0.4132, 0.4551,\n",
       "        0.0376, 0.0806, 0.2808, 0.2902, 0.3948, 0.6263, 0.9414, 0.9773, 0.8384,\n",
       "        0.4529, 0.4628, 0.9641, 0.7910, 0.4829, 0.2772, 0.5739, 0.8429, 0.6505,\n",
       "        0.8498, 0.7104, 0.5656, 0.7892, 0.2928, 0.8435, 0.5445, 1.0000, 0.6195,\n",
       "        0.7833, 0.3110, 0.6786, 0.7452, 0.8526, 0.1661, 0.9563, 0.7899, 0.0624,\n",
       "        0.9220, 0.8457, 0.1951, 0.1822, 0.8920, 0.3863, 0.5819, 0.3984, 0.5778,\n",
       "        0.7062, 0.7474, 0.5513, 0.8876, 0.2124, 0.4706, 0.8848, 0.2990, 0.0203,\n",
       "        0.3418])"
      ]
     },
     "execution_count": 360,
     "metadata": {},
     "output_type": "execute_result"
    }
   ],
   "source": [
    "tensor = torch.rand(1, 100)\n",
    "tensor[0]\n"
   ]
  },
  {
   "cell_type": "code",
   "execution_count": 365,
   "metadata": {},
   "outputs": [
    {
     "data": {
      "text/plain": [
       "tensor([ 0,  1,  3,  4,  5,  7,  9, 12, 13, 18, 19, 20, 23, 24, 26, 29, 30, 31,\n",
       "        32, 33, 34, 36, 38, 40, 43, 44, 45, 46, 47, 48, 49, 54, 55, 58, 59, 67,\n",
       "        73, 77, 80, 83, 84, 86, 88, 94, 95, 97, 98, 99])"
      ]
     },
     "execution_count": 365,
     "metadata": {},
     "output_type": "execute_result"
    }
   ],
   "source": [
    "# 将等于 1 的元素索引找到\n",
    "torch.nonzero(tensor[0] <=0.5,as_tuple=True)[0]"
   ]
  },
  {
   "cell_type": "code",
   "execution_count": null,
   "metadata": {},
   "outputs": [],
   "source": [
    "0b010001001000001"
   ]
  },
  {
   "cell_type": "code",
   "execution_count": null,
   "metadata": {},
   "outputs": [],
   "source": [
    "-52*400"
   ]
  },
  {
   "cell_type": "code",
   "execution_count": null,
   "metadata": {},
   "outputs": [],
   "source": [
    "45 * 400 "
   ]
  },
  {
   "cell_type": "code",
   "execution_count": 80,
   "metadata": {},
   "outputs": [
    {
     "name": "stdout",
     "output_type": "stream",
     "text": [
      "0 -24240.0\n",
      "1 -24482.4\n",
      "2 -24727.224000000002\n",
      "3 -24974.496240000004\n",
      "4 -25224.241202400004\n",
      "5 -25476.483614424003\n",
      "6 -25731.248450568244\n",
      "7 -25988.560935073925\n",
      "8 -26248.446544424663\n",
      "9 -26510.93100986891\n",
      "10 -26776.0403199676\n",
      "11 -27043.80072316728\n",
      "12 -27314.238730398953\n",
      "13 -27587.381117702942\n",
      "14 -27863.25492887997\n",
      "15 -28141.88747816877\n",
      "16 -28423.306352950458\n",
      "17 -28707.53941647996\n",
      "18 -28994.61481064476\n",
      "19 -29284.560958751208\n",
      "20 -29577.40656833872\n",
      "21 -29873.18063402211\n",
      "22 -30171.91244036233\n",
      "23 -30473.63156476595\n",
      "24 -30778.36788041361\n"
     ]
    }
   ],
   "source": [
    "a = -60 * 400 \n",
    "for i in range(25):\n",
    "    a = a * 1.01\n",
    "    print(i, a)"
   ]
  },
  {
   "cell_type": "code",
   "execution_count": 81,
   "metadata": {},
   "outputs": [
    {
     "data": {
      "text/plain": [
       "0.005333333333333333"
      ]
     },
     "execution_count": 81,
     "metadata": {},
     "output_type": "execute_result"
    }
   ],
   "source": [
    "128/24000"
   ]
  },
  {
   "cell_type": "code",
   "execution_count": 82,
   "metadata": {},
   "outputs": [
    {
     "data": {
      "text/plain": [
       "0.05688888888888889"
      ]
     },
     "execution_count": 82,
     "metadata": {},
     "output_type": "execute_result"
    }
   ],
   "source": [
    "1024/18000"
   ]
  },
  {
   "cell_type": "code",
   "execution_count": null,
   "metadata": {},
   "outputs": [],
   "source": []
  }
 ],
 "metadata": {
  "kernelspec": {
   "display_name": "Python 3",
   "language": "python",
   "name": "python3"
  },
  "language_info": {
   "codemirror_mode": {
    "name": "ipython",
    "version": 3
   },
   "file_extension": ".py",
   "mimetype": "text/x-python",
   "name": "python",
   "nbconvert_exporter": "python",
   "pygments_lexer": "ipython3",
   "version": "3.10.10"
  }
 },
 "nbformat": 4,
 "nbformat_minor": 2
}
