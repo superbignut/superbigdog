{
 "cells": [
  {
   "cell_type": "code",
   "execution_count": 89,
   "metadata": {},
   "outputs": [
    {
     "name": "stdout",
     "output_type": "stream",
     "text": [
      "Please check the information on the Darwin3 development board \n",
      "to determine if the configuration was successful.\n",
      "Please check the information on the Darwin3 development board \n",
      "to determine if the configuration was successful.\n"
     ]
    }
   ],
   "source": [
    "import os\n",
    "import sys\n",
    "import numpy as np\n",
    "import torch\n",
    "from darwin3_runtime_api import darwin3_device\n",
    "\n",
    "# test = darwin3_device.darwin3_device(app_path='../', step_size=10000, ip=['192.168.1.90']) # 172.31.111.35\n",
    "test = darwin3_device.darwin3_device(app_path='../', step_size=10_000_000, ip=['172.31.111.35'], spk_print=True) # 172.31.111.35\n",
    "\n",
    "import time\n",
    "\n",
    "\n",
    "time.sleep(1)\n",
    "\n",
    "test.reset()\n",
    "\n",
    "time.sleep(1)\n",
    "\n",
    "test.darwin3_init(333)\n",
    "\n",
    "time.sleep(1)\n",
    "\n",
    "test.deploy_config()"
   ]
  },
  {
   "cell_type": "code",
   "execution_count": 31,
   "metadata": {},
   "outputs": [
    {
     "name": "stdout",
     "output_type": "stream",
     "text": [
      "Please check the information on the Darwin3 development board \n",
      "to determine if the configuration was successful.\n"
     ]
    }
   ],
   "source": [
    "test.reset()\n"
   ]
  },
  {
   "cell_type": "code",
   "execution_count": 32,
   "metadata": {},
   "outputs": [
    {
     "name": "stdout",
     "output_type": "stream",
     "text": [
      "Please check the information on the Darwin3 development board \n",
      "to determine if the configuration was successful.\n"
     ]
    }
   ],
   "source": [
    "test.darwin3_init(333)"
   ]
  },
  {
   "cell_type": "code",
   "execution_count": 33,
   "metadata": {},
   "outputs": [],
   "source": [
    "test.deploy_config()"
   ]
  },
  {
   "cell_type": "code",
   "execution_count": null,
   "metadata": {},
   "outputs": [],
   "source": [
    "test_ls.append([])\n"
   ]
  },
  {
   "cell_type": "code",
   "execution_count": null,
   "metadata": {},
   "outputs": [],
   "source": [
    "test.get_neuron_state(pop_name=\"layer1\", state=[ [i, ['wgtsum1',],] for i in range(100) ]) # 衰减有问题，电压越来越大？？？\n",
    "test.get_neuron_state(pop_name=\"layer2\", state=[ [i, ['wgtsum1',],] for i in range(100) ]) # 电压增大导致 第二层脉冲触发了， nice 发现问题 解决问题\n",
    "test.get_neuron_state(pop_name=\"layer1\", state=[ [i, ['wgtsum0',],] for i in range(100) ]) # 衰减有问题，电压越来越大？？？\n",
    "test.get_neuron_state(pop_name=\"layer2\", state=[ [i, ['wgtsum0',],] for i in range(100) ]) # 电压增大导致 第二层脉冲触发了， nice 发现问题 解决问题"
   ]
  },
  {
   "cell_type": "code",
   "execution_count": null,
   "metadata": {},
   "outputs": [],
   "source": []
  },
  {
   "cell_type": "code",
   "execution_count": 344,
   "metadata": {},
   "outputs": [],
   "source": [
    "# print(test.run_darwin3_withoutfile(spike_neurons=[[]]))\n",
    "test.get_neuron_state(pop_name=\"layer1\", state=[ [i, ['vt',],] for i in range(100) ]) # 衰减有问题，电压越来越大？？？\n",
    "test.get_neuron_state(pop_name=\"layer2\", state=[ [i, ['vt',],] for i in range(100) ]) # 电压增大导致 第二层脉冲触发了， nice 发现问题 解决问题"
   ]
  },
  {
   "cell_type": "code",
   "execution_count": 39,
   "metadata": {},
   "outputs": [
    {
     "name": "stdout",
     "output_type": "stream",
     "text": [
      "error! not allowed %s learning_status\n"
     ]
    },
    {
     "ename": "UnboundLocalError",
     "evalue": "local variable 'item' referenced before assignment",
     "output_type": "error",
     "traceback": [
      "\u001b[1;31m---------------------------------------------------------------------------\u001b[0m",
      "\u001b[1;31mUnboundLocalError\u001b[0m                         Traceback (most recent call last)",
      "Cell \u001b[1;32mIn[39], line 1\u001b[0m\n\u001b[1;32m----> 1\u001b[0m \u001b[43mtest\u001b[49m\u001b[38;5;241;43m.\u001b[39;49m\u001b[43mget_neuron_state\u001b[49m\u001b[43m(\u001b[49m\u001b[43mpop_name\u001b[49m\u001b[38;5;241;43m=\u001b[39;49m\u001b[38;5;124;43m\"\u001b[39;49m\u001b[38;5;124;43mlayer1\u001b[39;49m\u001b[38;5;124;43m\"\u001b[39;49m\u001b[43m,\u001b[49m\u001b[43m \u001b[49m\u001b[43mstate\u001b[49m\u001b[38;5;241;43m=\u001b[39;49m\u001b[43m[\u001b[49m\u001b[43m \u001b[49m\u001b[43m[\u001b[49m\u001b[43mi\u001b[49m\u001b[43m,\u001b[49m\u001b[43m \u001b[49m\u001b[43m[\u001b[49m\u001b[38;5;124;43m'\u001b[39;49m\u001b[38;5;124;43mlearning_status\u001b[39;49m\u001b[38;5;124;43m'\u001b[39;49m\u001b[43m,\u001b[49m\u001b[43m]\u001b[49m\u001b[43m,\u001b[49m\u001b[43m]\u001b[49m\u001b[43m \u001b[49m\u001b[38;5;28;43;01mfor\u001b[39;49;00m\u001b[43m \u001b[49m\u001b[43mi\u001b[49m\u001b[43m \u001b[49m\u001b[38;5;129;43;01min\u001b[39;49;00m\u001b[43m \u001b[49m\u001b[38;5;28;43mrange\u001b[39;49m\u001b[43m(\u001b[49m\u001b[38;5;241;43m100\u001b[39;49m\u001b[43m)\u001b[49m\u001b[43m \u001b[49m\u001b[43m]\u001b[49m\u001b[43m)\u001b[49m \u001b[38;5;66;03m# 衰减有问题，电压越来越大？？？\u001b[39;00m\n",
      "File \u001b[1;32mc:\\Program Download\\Python-complier\\lib\\site-packages\\darwin3_runtime_api\\darwin3_device.py:3606\u001b[0m, in \u001b[0;36mdarwin3_device.get_neuron_state\u001b[1;34m(self, pop_name, state, offset)\u001b[0m\n\u001b[0;32m   3604\u001b[0m \u001b[38;5;28;01mif\u001b[39;00m x\u001b[38;5;241m>\u001b[39m\u001b[38;5;241m=\u001b[39m\u001b[38;5;241m15\u001b[39m:\n\u001b[0;32m   3605\u001b[0m     feast\u001b[38;5;241m.\u001b[39mwrite(item)\n\u001b[1;32m-> 3606\u001b[0m     debug_from_east \u001b[38;5;241m=\u001b[39m \u001b[38;5;28;01mTrue\u001b[39;00m\n\u001b[0;32m   3607\u001b[0m \u001b[38;5;28;01melse\u001b[39;00m:\n\u001b[0;32m   3608\u001b[0m     fwest\u001b[38;5;241m.\u001b[39mwrite(item)\n",
      "\u001b[1;31mUnboundLocalError\u001b[0m: local variable 'item' referenced before assignment"
     ]
    }
   ],
   "source": [
    "test.get_neuron_state(pop_name=\"layer1\", state=[ [i, ['learning_status',],] for i in range(100) ]) # 衰减有问题，电压越来越大？？？\n"
   ]
  },
  {
   "cell_type": "code",
   "execution_count": 91,
   "metadata": {},
   "outputs": [],
   "source": [
    "test.run_darwin3_withoutfile([[]])\n",
    "# test.get_neuron_state(pop_name=\"layer1\", state=[ [0, ['inference_status',],],  [1, ['inference_status',],] ]) # 查看work mod\n",
    "test.get_neuron_state(pop_name=\"layer1\", state=[ [i, ['inference_status',],] for i in range(100) ]) # 衰减有问题，电压越来越大？？\n",
    "# test.get_neuron_state(pop_name=\"layer1\", state=[ [0, ['inference_status',],],  [1, ['inference_status',],] ]) # 查看work mod\n",
    "# test.get_neuron_state(pop_name=\"layer1\", state=[ [0, ['inference_status',],],  [1, ['inference_status',],] ], offset=0x05) # 查看work mod\n"
   ]
  },
  {
   "cell_type": "code",
   "execution_count": 78,
   "metadata": {},
   "outputs": [],
   "source": [
    "test.get_neuron_state(pop_name=\"layer1\", state=[ [0, ['inference_status',],],  [1, ['inference_status',],] ]) # 查看work mod"
   ]
  },
  {
   "cell_type": "code",
   "execution_count": 53,
   "metadata": {},
   "outputs": [],
   "source": [
    "test.get_neuron_state(pop_name=\"layer1\", state=[ [0, ['config_reg',],],  [1, ['config_reg',],] ], offset=0x19) # 查看work mod"
   ]
  },
  {
   "cell_type": "code",
   "execution_count": 79,
   "metadata": {},
   "outputs": [],
   "source": [
    "test.get_neuron_state(pop_name=\"layer1\", state=[ [i, ['inference_status',],] for i in range(100) ]) # 衰减有问题，电压越来越大？？？"
   ]
  },
  {
   "cell_type": "code",
   "execution_count": 80,
   "metadata": {},
   "outputs": [
    {
     "name": "stdout",
     "output_type": "stream",
     "text": [
      "(array([ 0,  1,  2,  3,  4,  5,  6,  7,  8,  9, 10, 11, 12, 13, 14, 15, 16,\n",
      "       17, 18, 19, 20, 21, 22, 23, 24, 25, 26, 27, 28, 29, 30, 31, 32, 33,\n",
      "       34, 35, 36, 37, 38, 39, 40, 41, 42, 43, 44, 45, 46, 47, 48, 49, 50,\n",
      "       51, 52, 53, 54, 55, 56, 57, 58, 59, 60, 61, 62, 63, 64, 65, 66, 67,\n",
      "       68, 69, 70, 71, 72, 73, 74, 75, 76, 77, 78, 79, 80, 81, 82, 83, 84,\n",
      "       85, 86, 87, 88, 89, 90, 91, 92, 93, 94, 95, 96, 97, 98, 99],\n",
      "      dtype=int64),)\n",
      "[15. 14. 15. 15. 15. 15. 15. 15. 15. 15. 15. 15. 15. 15. 15. 15. 15. 15.\n",
      " 15. 15. 15. 15. 15. 15. 15. 15. 15. 15. 15. 15. 15. 15. 15. 15. 15. 15.\n",
      " 15. 15. 15. 15. 15. 15. 15. 15. 15. 15. 15. 15. 15. 15. 15. 15. 15. 15.\n",
      " 15. 15. 15. 15. 15. 15. 15. 15. 15. 15. 15. 15. 15. 15. 15. 15. 15. 15.\n",
      " 15. 15. 15. 15. 15. 15. 15. 15. 15. 15. 15. 15. 15. 15. 15. 15. 15. 15.\n",
      " 15. 15. 15. 15. 15. 15. 15. 15. 15. 15.]\n"
     ]
    }
   ],
   "source": [
    "ls = np.zeros(100,)\n",
    "def input_func(input_ls, unit_conversion=0.8, dt=0.1):# 这连个参数对标spaic的possion_encoder\n",
    "    # import numpy as np\n",
    "    # rand_input = np.where(np.random.rand(*input_ls.shape) < input_ls * unit_conversion * dt)\n",
    "    a = (np.random.rand(*input_ls.shape) < input_ls * unit_conversion * dt)\n",
    "    return np.nonzero(a[0].astype(int))[0]\n",
    "\n",
    "for _ in range(25):\n",
    "    input_ls = np.array([[1 if i==1 or i == 4 else 0.01 for i in range(16)] * 16])\n",
    "    a = input_func(input_ls)\n",
    "    out = test.run_darwin3_withoutfile(spike_neurons=[a])\n",
    "\n",
    "    for i in range(len(out[0])):\n",
    "        index = out[0][i][1]\n",
    "        ls[index] += 1\n",
    "print(ls.nonzero())\n",
    "print(ls[ls.nonzero()])\n",
    "\n",
    "\n",
    "\n",
    "\n",
    "# 那这样的话就是调出来了。 下面就是要把  Darwin的初始化还有step 的函数 放到 狗的代码里面 把spaic 的位置换成darwin stdp"
   ]
  },
  {
   "cell_type": "code",
   "execution_count": null,
   "metadata": {},
   "outputs": [
    {
     "name": "stdout",
     "output_type": "stream",
     "text": [
      "2\n",
      "2\n"
     ]
    }
   ],
   "source": [
    "test.get_neuron_state(pop_name=\"layer1\", state=[ [0, ['npu_reg',],],  [1, ['npu_reg',],] ], offset=0x02)"
   ]
  },
  {
   "cell_type": "code",
   "execution_count": 254,
   "metadata": {},
   "outputs": [],
   "source": [
    "def input_func(input_ls, unit_conversion=0.8, dt=0.1):# 这连个参数对标spaic的possion_encoder\n",
    "    # import numpy as np\n",
    "    # rand_input = np.where(np.random.rand(*input_ls.shape) < input_ls * unit_conversion * dt)\n",
    "    a = (np.random.rand(*input_ls.shape) < input_ls * unit_conversion * dt)\n",
    "\n",
    "    return np.nonzero(a[0].astype(int))[0]"
   ]
  },
  {
   "cell_type": "code",
   "execution_count": 85,
   "metadata": {},
   "outputs": [],
   "source": [
    "import numpy as np"
   ]
  },
  {
   "cell_type": "code",
   "execution_count": 140,
   "metadata": {},
   "outputs": [
    {
     "data": {
      "text/plain": [
       "tensor([[126.,  19.,  39.,  ...,  71.,  34.,  25.],\n",
       "        [ 67.,  75.,  18.,  ...,  45.,  21.,  66.],\n",
       "        [ 44.,  56.,  83.,  ...,  25.,  63., 109.],\n",
       "        ...,\n",
       "        [ 99.,  43.,  86.,  ..., 127., 114.,  48.],\n",
       "        [123.,  67.,  39.,  ..., 105.,  42.,  78.],\n",
       "        [ 92.,  52.,  49.,  ..., 127.,  47.,  39.]], device='cuda:0',\n",
       "       requires_grad=True)"
      ]
     },
     "execution_count": 140,
     "metadata": {},
     "output_type": "execute_result"
    }
   ],
   "source": [
    "torch.load(r\"C:\\Users\\bignuts\\Desktop\\ZJU\\hang_zhou\\alcohol\\quant_input_layer1.pth\")"
   ]
  },
  {
   "cell_type": "code",
   "execution_count": 71,
   "metadata": {},
   "outputs": [],
   "source": [
    "test.get_neuron_state(pop_name=\"layer2\", state=[ [0, ['inference_status',],],  [1, ['inference_status',],]])  # 19"
   ]
  },
  {
   "cell_type": "code",
   "execution_count": null,
   "metadata": {},
   "outputs": [],
   "source": [
    "\n",
    "import time\n",
    "for _ in range(25):\n",
    "    print(test.run_darwin3_withoutfile(spike_neurons=[[]])) # \n",
    "    # time.sleep(0.4)\n",
    "test.get_neuron_state(pop_name=\"layer1\", state=[ [0, ['inference_status',],],  [1, ['inference_status',],]])  # 19"
   ]
  },
  {
   "cell_type": "code",
   "execution_count": null,
   "metadata": {},
   "outputs": [],
   "source": [
    "print(test.run_darwin3_withoutfile(spike_neurons=[[]]))\n",
    "test.get_neuron_state(pop_name=\"layer1\", state=[ [0, ['inference_status',],],  [1, ['inference_status',],]]) # 查看推理存储器"
   ]
  },
  {
   "cell_type": "code",
   "execution_count": null,
   "metadata": {},
   "outputs": [],
   "source": [
    "test.get_neuron_state(pop_name=\"layer2\", state=[ [i, ['vt',],] for i in range(100) ])"
   ]
  },
  {
   "cell_type": "code",
   "execution_count": null,
   "metadata": {},
   "outputs": [],
   "source": [
    "test.get_neuron_state(pop_name=\"layer1\", state=[ [0, ['npu_reg',],],  [1, ['npu_reg',],] ], offset=0x05) # 查看vth 寄存器"
   ]
  },
  {
   "cell_type": "code",
   "execution_count": null,
   "metadata": {},
   "outputs": [],
   "source": [
    "test.get_neuron_state(pop_name=\"layer1\", state=[ [0, ['vt',],],  [1, ['vt',],] ])"
   ]
  },
  {
   "cell_type": "code",
   "execution_count": null,
   "metadata": {},
   "outputs": [],
   "source": [
    "import time"
   ]
  },
  {
   "cell_type": "code",
   "execution_count": null,
   "metadata": {},
   "outputs": [],
   "source": [
    "for i in range(100):\n",
    "    test.get_neuron_state(pop_name=\"layer1\", state=[ [i, ['vt',],], ])\n",
    "    time.sleep(0.5)\n"
   ]
  },
  {
   "cell_type": "code",
   "execution_count": null,
   "metadata": {},
   "outputs": [],
   "source": [
    "print(test.run_darwin3_withoutfile(spike_neurons=test_ls))\n"
   ]
  },
  {
   "cell_type": "code",
   "execution_count": null,
   "metadata": {},
   "outputs": [],
   "source": [
    "\n"
   ]
  },
  {
   "cell_type": "code",
   "execution_count": null,
   "metadata": {},
   "outputs": [],
   "source": [
    "# test.get_neuron_state(pop_name=\"layer1\", state=[ [0, ['inference_status',],],  [1, ['inference_status',],]]) # 查看推理存储器\n",
    "print(test.run_darwin3_withoutfile(spike_neurons=[[]]))\n",
    "test.get_neuron_state(pop_name=\"layer1\", state=[ [0, ['vt',],],  [1, ['vt',],] ])\n",
    "# test.get_neuron_state(pop_name=\"layer1\", state=[ [0, ['inference_status',],],  [1, ['inference_status',],]]) # 查看推理存储器\n"
   ]
  },
  {
   "cell_type": "code",
   "execution_count": 12,
   "metadata": {},
   "outputs": [
    {
     "name": "stdout",
     "output_type": "stream",
     "text": [
      "2\n",
      "2\n"
     ]
    }
   ],
   "source": [
    "test.get_neuron_state(pop_name=\"layer1\", state=[ [0, ['npu_reg',],],  [1, ['npu_reg',],] ], offset=0x02)"
   ]
  },
  {
   "cell_type": "code",
   "execution_count": null,
   "metadata": {},
   "outputs": [],
   "source": [
    "\n",
    "print(test.run_darwin3_withoutfile(spike_neurons=[[7,]]))\n",
    "test.get_neuron_state(pop_name=\"layer1\", state=[ [0, ['vt',],],  [1, ['vt',],] ])\n",
    "\n",
    "# test.get_neuron_state(pop_name=\"layer1\", state=[ [0, ['inference_status',],],  [1, ['inference_status',],]]) # 查看推理存储器 这是 第四次 输入 应该进入了下一个周期，所以应该电压会相对高一点"
   ]
  },
  {
   "cell_type": "code",
   "execution_count": null,
   "metadata": {},
   "outputs": [],
   "source": [
    "print(test.run_darwin3_withoutfile(spike_neurons=[[7,8,9]]))\n",
    "test.get_neuron_state(pop_name=\"layer1\", state=[ [0, ['vt',],],  [1, ['vt',],] ])\n"
   ]
  },
  {
   "cell_type": "code",
   "execution_count": null,
   "metadata": {},
   "outputs": [],
   "source": [
    "test.get_neuron_state(pop_name=\"layer1\", state=[ [0, ['vt',],],  [1, ['vt',],] ])\n",
    "# test.get_neuron_state(pop_name=\"layer1\", state=[ [0, ['npu_reg',],],  [1, ['npu_reg',],] ], offset=0x01)"
   ]
  },
  {
   "cell_type": "code",
   "execution_count": null,
   "metadata": {},
   "outputs": [],
   "source": [
    "test.run_darwin3_withoutfile(spike_neurons=[[5,6,7,8],[]])\n",
    "test.get_neuron_state(pop_name=\"layer1\", state=[ [0, ['inference_status',],],  [1, ['inference_status',],]])"
   ]
  },
  {
   "cell_type": "code",
   "execution_count": null,
   "metadata": {},
   "outputs": [],
   "source": [
    "test.get_neuron_state(pop_name=\"layer1\", state=[ [0, ['npu_reg',],],  [1, ['npu_reg',],] ], offset=0x05) # 查看vth 寄存器"
   ]
  },
  {
   "cell_type": "code",
   "execution_count": null,
   "metadata": {},
   "outputs": [],
   "source": [
    "import torch\n",
    "torch.load(r\"C:\\Users\\bignuts\\Desktop\\ZJU\\hang_zhou\\alcohol\\save_lif_200_quant\\parameters\\_variables.pt\")"
   ]
  },
  {
   "cell_type": "code",
   "execution_count": null,
   "metadata": {},
   "outputs": [],
   "source": [
    "test.run_darwin3_withoutfile(spike_neurons=[[]])"
   ]
  },
  {
   "cell_type": "code",
   "execution_count": null,
   "metadata": {},
   "outputs": [],
   "source": [
    "test.get_neuron_state(pop_name=\"layer1\", state=[ [0, ['npu_reg',],],  [1, ['npu_reg',],] ], offset=0x00)"
   ]
  },
  {
   "cell_type": "code",
   "execution_count": null,
   "metadata": {},
   "outputs": [],
   "source": [
    "test.run_darwin3_withoutfile(spike_neurons=test_ls)"
   ]
  },
  {
   "cell_type": "code",
   "execution_count": null,
   "metadata": {},
   "outputs": [],
   "source": [
    "test.get_neuron_state(pop_name=\"layer1\", state=[ [0, ['vt',],],  [1, ['vt',],] ])"
   ]
  },
  {
   "cell_type": "code",
   "execution_count": null,
   "metadata": {},
   "outputs": [],
   "source": [
    "import torch\n",
    "torch.load(r\"C:\\Users\\bignuts\\Desktop\\ZJU\\hang_zhou\\alcohol\\save_200_quant\\parameters\\_parameters_dict.pt\") # 加载权重\n",
    "# weight_input0_to_layer1 = emo_net_weight[r'autoname9<net>_connection1<con>:autoname9<net>_layer1<neg><-autoname9<net>_input<nod>:{weight}'].detach().cpu() # "
   ]
  },
  {
   "cell_type": "code",
   "execution_count": null,
   "metadata": {},
   "outputs": [],
   "source": [
    "vth = torch.load(r\"C:\\Users\\bignuts\\Desktop\\ZJU\\hang_zhou\\alcohol\\save_200\\parameters\\_variables.pt\") # 加载权重\n",
    "vth"
   ]
  },
  {
   "cell_type": "code",
   "execution_count": null,
   "metadata": {},
   "outputs": [],
   "source": [
    "import torch\n",
    "torch.load(r\"C:\\Users\\bignuts\\Desktop\\ZJU\\hang_zhou\\alcohol\\save_lif_200_quant\\parameters\\_variables.pt\") # 加载权重"
   ]
  },
  {
   "cell_type": "code",
   "execution_count": null,
   "metadata": {},
   "outputs": [],
   "source": [
    "vth = vth['autoname9<net>_layer1<neg>:{v_th}'].detach().cpu()"
   ]
  },
  {
   "cell_type": "code",
   "execution_count": null,
   "metadata": {},
   "outputs": [],
   "source": [
    "vth"
   ]
  },
  {
   "cell_type": "code",
   "execution_count": null,
   "metadata": {},
   "outputs": [],
   "source": [
    "import numpy as np"
   ]
  },
  {
   "cell_type": "code",
   "execution_count": null,
   "metadata": {},
   "outputs": [],
   "source": [
    "test.get_neuron_state(pop_name=\"layer1\", state=[ [0, ['npu_reg',],],  [1, ['npu_reg',],] ], offset=0x00)"
   ]
  },
  {
   "cell_type": "code",
   "execution_count": null,
   "metadata": {},
   "outputs": [],
   "source": [
    "test.get_neuron_state(pop_name=\"layer1\", state=[ [0, ['config_reg',],],  [1, ['config_reg',],] ], offset=0x16)"
   ]
  },
  {
   "cell_type": "code",
   "execution_count": null,
   "metadata": {},
   "outputs": [],
   "source": [
    "import torch\n",
    "torch.load(r\"C:\\Users\\bignuts\\Desktop\\ZJU\\hang_zhou\\alcohol\\quant_input_layer1.pth\").detach().cpu().numpy()"
   ]
  },
  {
   "cell_type": "code",
   "execution_count": null,
   "metadata": {},
   "outputs": [],
   "source": [
    "a[55]"
   ]
  },
  {
   "cell_type": "code",
   "execution_count": null,
   "metadata": {},
   "outputs": [],
   "source": [
    "-24000\n",
    "2**16"
   ]
  },
  {
   "cell_type": "code",
   "execution_count": null,
   "metadata": {},
   "outputs": [],
   "source": [
    "-52 * 400"
   ]
  },
  {
   "cell_type": "code",
   "execution_count": null,
   "metadata": {},
   "outputs": [],
   "source": [
    "3 / 32"
   ]
  },
  {
   "cell_type": "code",
   "execution_count": null,
   "metadata": {},
   "outputs": [],
   "source": [
    "torch.load(r\"C:\\Users\\bignuts\\Desktop\\ZJU\\hang_zhou\\alcohol\\hang_zhou_spaic\\save_600\\real_ysc_model_mic\\parameters\\_parameters_dict.pt\")"
   ]
  },
  {
   "cell_type": "code",
   "execution_count": null,
   "metadata": {},
   "outputs": [],
   "source": [
    "hex(-40*400 & 0xffff)"
   ]
  },
  {
   "cell_type": "code",
   "execution_count": 60,
   "metadata": {},
   "outputs": [
    {
     "data": {
      "text/plain": [
       "array([[126.,  19.,  39., ...,  71.,  34.,  25.],\n",
       "       [ 67.,  75.,  18., ...,  45.,  21.,  66.],\n",
       "       [ 44.,  56.,  83., ...,  25.,  63., 109.],\n",
       "       ...,\n",
       "       [ 99.,  43.,  86., ..., 127., 114.,  48.],\n",
       "       [123.,  67.,  39., ..., 105.,  42.,  78.],\n",
       "       [ 92.,  52.,  49., ..., 127.,  47.,  39.]], dtype=float32)"
      ]
     },
     "execution_count": 60,
     "metadata": {},
     "output_type": "execute_result"
    }
   ],
   "source": [
    "emo_net_weight = torch.load(r\"C:\\Users\\bignuts\\Desktop\\ZJU\\hang_zhou\\alcohol\\quant_input_layer1.pth\").detach().cpu().numpy()\n",
    "emo_net_weight"
   ]
  },
  {
   "cell_type": "code",
   "execution_count": 61,
   "metadata": {},
   "outputs": [
    {
     "data": {
      "text/plain": [
       "(100, 256)"
      ]
     },
     "execution_count": 61,
     "metadata": {},
     "output_type": "execute_result"
    }
   ],
   "source": [
    "emo_net_weight.shape"
   ]
  },
  {
   "cell_type": "code",
   "execution_count": 63,
   "metadata": {},
   "outputs": [
    {
     "data": {
      "text/plain": [
       "(100,)"
      ]
     },
     "execution_count": 63,
     "metadata": {},
     "output_type": "execute_result"
    }
   ],
   "source": [
    "emo_net_weight[:, 0].shape"
   ]
  },
  {
   "cell_type": "code",
   "execution_count": null,
   "metadata": {},
   "outputs": [],
   "source": []
  }
 ],
 "metadata": {
  "kernelspec": {
   "display_name": "Python 3",
   "language": "python",
   "name": "python3"
  },
  "language_info": {
   "codemirror_mode": {
    "name": "ipython",
    "version": 3
   },
   "file_extension": ".py",
   "mimetype": "text/x-python",
   "name": "python",
   "nbconvert_exporter": "python",
   "pygments_lexer": "ipython3",
   "version": "3.10.10"
  }
 },
 "nbformat": 4,
 "nbformat_minor": 2
}
