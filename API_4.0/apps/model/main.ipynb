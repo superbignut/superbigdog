{
 "cells": [
  {
   "cell_type": "code",
   "execution_count": 16,
   "metadata": {},
   "outputs": [
    {
     "name": "stdout",
     "output_type": "stream",
     "text": [
      "Please check the information on the Darwin3 development board \n",
      "to determine if the configuration was successful.\n",
      "Please check the information on the Darwin3 development board \n",
      "to determine if the configuration was successful.\n"
     ]
    }
   ],
   "source": [
    "import os\n",
    "import sys\n",
    "import numpy as np\n",
    "import torch\n",
    "from darwin3_runtime_api import darwin3_device\n",
    "\n",
    "# test = darwin3_device.darwin3_device(app_path='../', step_size=10000, ip=['192.168.1.90']) # 172.31.111.35\n",
    "test = darwin3_device.darwin3_device(app_path='../', step_size=1_000_000, ip=['172.31.111.35'], spk_print=True) # 172.31.111.35\n",
    "\n",
    "import time\n",
    "\n",
    "\n",
    "time.sleep(1)\n",
    "\n",
    "test.reset()\n",
    "\n",
    "time.sleep(1)\n",
    "\n",
    "test.darwin3_init(333)\n",
    "\n",
    "time.sleep(1)\n",
    "\n",
    "test.deploy_config()"
   ]
  },
  {
   "cell_type": "code",
   "execution_count": 31,
   "metadata": {},
   "outputs": [
    {
     "name": "stdout",
     "output_type": "stream",
     "text": [
      "Please check the information on the Darwin3 development board \n",
      "to determine if the configuration was successful.\n"
     ]
    }
   ],
   "source": [
    "test.reset()\n"
   ]
  },
  {
   "cell_type": "code",
   "execution_count": 32,
   "metadata": {},
   "outputs": [
    {
     "name": "stdout",
     "output_type": "stream",
     "text": [
      "Please check the information on the Darwin3 development board \n",
      "to determine if the configuration was successful.\n"
     ]
    }
   ],
   "source": [
    "test.darwin3_init(333)"
   ]
  },
  {
   "cell_type": "code",
   "execution_count": 33,
   "metadata": {},
   "outputs": [],
   "source": [
    "test.deploy_config()"
   ]
  },
  {
   "cell_type": "code",
   "execution_count": 183,
   "metadata": {},
   "outputs": [
    {
     "ename": "NameError",
     "evalue": "name 'test_ls' is not defined",
     "output_type": "error",
     "traceback": [
      "\u001b[1;31m---------------------------------------------------------------------------\u001b[0m",
      "\u001b[1;31mNameError\u001b[0m                                 Traceback (most recent call last)",
      "Cell \u001b[1;32mIn[183], line 1\u001b[0m\n\u001b[1;32m----> 1\u001b[0m \u001b[43mtest_ls\u001b[49m\u001b[38;5;241m.\u001b[39mappend([])\n",
      "\u001b[1;31mNameError\u001b[0m: name 'test_ls' is not defined"
     ]
    }
   ],
   "source": [
    "test_ls.append([])\n"
   ]
  },
  {
   "cell_type": "code",
   "execution_count": null,
   "metadata": {},
   "outputs": [],
   "source": [
    "test.get_neuron_state(pop_name=\"layer1\", state=[ [i, ['wgtsum1',],] for i in range(100) ]) # 衰减有问题，电压越来越大？？？\n",
    "test.get_neuron_state(pop_name=\"layer2\", state=[ [i, ['wgtsum1',],] for i in range(100) ]) # 电压增大导致 第二层脉冲触发了， nice 发现问题 解决问题\n",
    "test.get_neuron_state(pop_name=\"layer1\", state=[ [i, ['wgtsum0',],] for i in range(100) ]) # 衰减有问题，电压越来越大？？？\n",
    "test.get_neuron_state(pop_name=\"layer2\", state=[ [i, ['wgtsum0',],] for i in range(100) ]) # 电压增大导致 第二层脉冲触发了， nice 发现问题 解决问题"
   ]
  },
  {
   "cell_type": "code",
   "execution_count": 58,
   "metadata": {},
   "outputs": [
    {
     "data": {
      "text/plain": [
       "0.951229424500714"
      ]
     },
     "execution_count": 58,
     "metadata": {},
     "output_type": "execute_result"
    }
   ],
   "source": [
    "np.exp(-1/20)"
   ]
  },
  {
   "cell_type": "code",
   "execution_count": null,
   "metadata": {},
   "outputs": [
    {
     "data": {
      "text/plain": [
       "0.9375"
      ]
     },
     "execution_count": 59,
     "metadata": {},
     "output_type": "execute_result"
    }
   ],
   "source": [
    "100 * 255"
   ]
  },
  {
   "cell_type": "code",
   "execution_count": 18,
   "metadata": {},
   "outputs": [],
   "source": [
    "test.get_neuron_state(pop_name=\"layer1\", state=[ [i, ['dedr',],] for i in range(4740) ])"
   ]
  },
  {
   "cell_type": "code",
   "execution_count": 344,
   "metadata": {},
   "outputs": [],
   "source": [
    "# print(test.run_darwin3_withoutfile(spike_neurons=[[]]))\n",
    "test.get_neuron_state(pop_name=\"layer1\", state=[ [i, ['vt',],] for i in range(100) ]) # 衰减有问题，电压越来越大？？？\n",
    "test.get_neuron_state(pop_name=\"layer2\", state=[ [i, ['vt',],] for i in range(100) ]) # 电压增大导致 第二层脉冲触发了， nice 发现问题 解决问题"
   ]
  },
  {
   "cell_type": "code",
   "execution_count": 2,
   "metadata": {},
   "outputs": [],
   "source": [
    "test.get_neuron_state(pop_name=\"layer1\", state=[ [i, ['learning_status',],] for i in range(355) ]) # prt1ax 看最后7位"
   ]
  },
  {
   "cell_type": "code",
   "execution_count": 7,
   "metadata": {},
   "outputs": [],
   "source": [
    "test.get_neuron_state(pop_name=\"layer1\", state=[ [i, ['learning_status_dendrite',],] for i in range(355) ]) # prt1ax 看最后7位"
   ]
  },
  {
   "cell_type": "code",
   "execution_count": 6,
   "metadata": {},
   "outputs": [
    {
     "data": {
      "text/plain": [
       "'0xff9c0000'"
      ]
     },
     "execution_count": 6,
     "metadata": {},
     "output_type": "execute_result"
    }
   ],
   "source": [
    "hex((-100 & 0xffff)<<16)"
   ]
  },
  {
   "cell_type": "code",
   "execution_count": null,
   "metadata": {},
   "outputs": [
    {
     "data": {
      "text/plain": [
       "65280"
      ]
     },
     "execution_count": 13,
     "metadata": {},
     "output_type": "execute_result"
    }
   ],
   "source": [
    "int(hex((-1 & 0xff)<<8), 16)"
   ]
  },
  {
   "cell_type": "code",
   "execution_count": 16,
   "metadata": {},
   "outputs": [
    {
     "data": {
      "text/plain": [
       "65281"
      ]
     },
     "execution_count": 16,
     "metadata": {},
     "output_type": "execute_result"
    }
   ],
   "source": [
    "0x01 | int(hex((-1 & 0xff)<<8), 16)"
   ]
  },
  {
   "cell_type": "code",
   "execution_count": null,
   "metadata": {},
   "outputs": [
    {
     "data": {
      "text/plain": [
       "[[]]"
      ]
     },
     "execution_count": 65,
     "metadata": {},
     "output_type": "execute_result"
    }
   ],
   "source": [
    "test.run_darwin3_withoutfile([[]])\n",
    "\n",
    "# test.get_neuron_state(pop_name=\"layer1\", state=[ [0, ['inference_status',],],  [1, ['inference_status',],] ]) # 查看work mod\n",
    "# test.get_neuron_state(pop_name=\"layer1\", state=[ [i, ['inference_status',],] for i in range(100) ]) # \n",
    "# test.get_neuron_state(pop_name=\"layer1\", state=[ [0, ['inference_status',],],  [1, ['inference_status',],] ]) # 查看work mod\n",
    "# test.get_neuron_state(pop_name=\"layer1\", state=[ [0, ['inference_status',],],  [1, ['inference_status',],] ], offset=0x05) # 查看work mod\n"
   ]
  },
  {
   "cell_type": "code",
   "execution_count": 4,
   "metadata": {},
   "outputs": [
    {
     "name": "stdout",
     "output_type": "stream",
     "text": [
      "[]\n",
      "[[]]\n"
     ]
    }
   ],
   "source": [
    "import numpy as np\n",
    "def input_func(input_ls, unit_conversion=0.8, dt=0.1):# 这连个参数对标spaic的possion_encoder\n",
    "    # import numpy as np\n",
    "    # rand_input = np.where(np.random.rand(*input_ls.shape) < input_ls * unit_conversion * dt)\n",
    "    a = (np.random.rand(*input_ls.shape) < input_ls * unit_conversion * dt)\n",
    "    return np.nonzero(a[0].astype(int))[0]\n",
    "\n",
    "input_ls = np.array([[1 if i==3 else 0 for i in range(256)]])\n",
    "a = input_func(input_ls=input_ls)\n",
    "print(a)\n",
    "out = test.run_darwin3_withoutfile(spike_neurons=[a])\n",
    "print(out)"
   ]
  },
  {
   "cell_type": "code",
   "execution_count": 61,
   "metadata": {},
   "outputs": [
    {
     "data": {
      "text/plain": [
       "[[]]"
      ]
     },
     "execution_count": 61,
     "metadata": {},
     "output_type": "execute_result"
    }
   ],
   "source": [
    "test.run_darwin3_withoutfile(spike_neurons=[[5]])"
   ]
  },
  {
   "cell_type": "code",
   "execution_count": 4,
   "metadata": {},
   "outputs": [],
   "source": [
    "test.get_neuron_state(pop_name=\"layer1\", state=[ [0, ['inference_status',],],  [1, ['inference_status',],] ]) # 查看work mod"
   ]
  },
  {
   "cell_type": "code",
   "execution_count": 177,
   "metadata": {},
   "outputs": [],
   "source": [
    "test.get_neuron_state(pop_name=\"layer1\", state=[ [0, ['learning_status',],],  [1, ['learning_status',],] ]) # 查看work mod"
   ]
  },
  {
   "cell_type": "code",
   "execution_count": 53,
   "metadata": {},
   "outputs": [],
   "source": [
    "test.get_neuron_state(pop_name=\"layer1\", state=[ [0, ['config_reg',],],  [1, ['config_reg',],] ], offset=0x19) # 查看work mod"
   ]
  },
  {
   "cell_type": "code",
   "execution_count": 2,
   "metadata": {},
   "outputs": [
    {
     "name": "stdout",
     "output_type": "stream",
     "text": [
      "yyyyyy\n",
      "yyyyyy\n"
     ]
    }
   ],
   "source": [
    "test.get_neuron_state(pop_name=\"layer1\", state=[ [0, ['config_reg',],],  [1, ['config_reg',],] ], offset=0x0B) # 查看 pra0"
   ]
  },
  {
   "cell_type": "code",
   "execution_count": 41,
   "metadata": {},
   "outputs": [
    {
     "name": "stdout",
     "output_type": "stream",
     "text": [
      "yyyyyy\n",
      "yyyyyy\n"
     ]
    }
   ],
   "source": [
    "test.get_neuron_state(pop_name=\"layer1\", state=[ [0, ['config_reg',],],  [1, ['config_reg',],] ], offset=0x02) # 查看 workmode"
   ]
  },
  {
   "cell_type": "code",
   "execution_count": 174,
   "metadata": {},
   "outputs": [],
   "source": [
    "test.get_neuron_state(pop_name=\"layer1\", state=[ [i, ['inference_status',],] for i in range(100) ]) # 衰减有问题，电压越来越大？？？"
   ]
  },
  {
   "cell_type": "code",
   "execution_count": 193,
   "metadata": {},
   "outputs": [
    {
     "data": {
      "text/plain": [
       "[[]]"
      ]
     },
     "execution_count": 193,
     "metadata": {},
     "output_type": "execute_result"
    }
   ],
   "source": [
    "test.run_darwin3_withoutfile([[]])"
   ]
  },
  {
   "cell_type": "code",
   "execution_count": 6,
   "metadata": {},
   "outputs": [],
   "source": [
    "test.get_neuron_state(pop_name=\"layer1\", state=[ [i, ['learning_status',],] for i in range(355) ]) # prt1ax 看最后7位"
   ]
  },
  {
   "cell_type": "code",
   "execution_count": 196,
   "metadata": {},
   "outputs": [],
   "source": [
    "test.clear_neurons_states(LSC=True)"
   ]
  },
  {
   "cell_type": "code",
   "execution_count": 17,
   "metadata": {},
   "outputs": [
    {
     "name": "stdout",
     "output_type": "stream",
     "text": [
      "(array([12, 28, 31, 57, 60, 66, 71, 76, 91], dtype=int64),)\n",
      "(array([12, 28, 31, 57, 60, 66, 71, 76, 91], dtype=int64),)\n",
      "(array([12, 28, 31, 57, 60, 66, 76, 91], dtype=int64),)\n",
      "(array([12, 28, 31, 57, 60, 66, 76], dtype=int64),)\n",
      "(array([12, 28, 31, 57, 60, 66, 76, 91], dtype=int64),)\n",
      "(array([12, 28, 31, 41, 57, 60, 66, 71, 76, 91], dtype=int64),)\n",
      "(array([ 4, 12, 28, 31, 41, 57, 60, 66, 71, 76, 77, 91], dtype=int64),)\n",
      "(array([ 4, 12, 14, 22, 28, 31, 41, 49, 57, 60, 66, 71, 76, 91],\n",
      "      dtype=int64),)\n",
      "(array([12, 28, 31, 57, 60, 66, 71, 76, 91], dtype=int64),)\n",
      "(array([ 1,  4,  8, 12, 28, 31, 41, 57, 60, 66, 71, 76, 77, 91],\n",
      "      dtype=int64),)\n",
      "(array([12, 28, 31, 57, 60, 66, 71, 76, 91], dtype=int64),)\n",
      "(array([ 1,  4, 12, 28, 31, 41, 53, 57, 60, 66, 71, 76, 77, 91],\n",
      "      dtype=int64),)\n",
      "(array([ 4, 12, 28, 31, 41, 57, 60, 66, 71, 76, 91], dtype=int64),)\n",
      "(array([12, 28, 31, 57, 60, 66, 76, 91], dtype=int64),)\n",
      "(array([ 1,  4, 12, 28, 31, 41, 57, 60, 66, 71, 76, 91], dtype=int64),)\n",
      "(array([ 1,  4,  8, 12, 19, 22, 28, 31, 41, 57, 60, 66, 70, 71, 76, 77, 91],\n",
      "      dtype=int64),)\n",
      "(array([ 1,  4,  5,  8,  9, 12, 14, 19, 22, 28, 31, 41, 49, 53, 57, 58, 60,\n",
      "       64, 66, 70, 71, 76, 77, 88, 91, 93], dtype=int64),)\n",
      "(array([ 1,  4,  5,  7,  8,  9, 11, 12, 14, 19, 22, 24, 27, 28, 31, 41, 47,\n",
      "       49, 53, 57, 60, 64, 66, 70, 71, 76, 77, 78, 87, 88, 91, 93],\n",
      "      dtype=int64),)\n",
      "(array([], dtype=int64),)\n",
      "(array([ 1,  4, 12, 22, 28, 31, 41, 57, 60, 66, 71, 76, 77, 91],\n",
      "      dtype=int64),)\n",
      "(array([12, 28, 31, 60, 66, 76], dtype=int64),)\n",
      "(array([12, 28, 31, 57, 60, 66, 76, 91], dtype=int64),)\n",
      "(array([12, 28, 31, 57, 60, 66, 76, 91], dtype=int64),)\n",
      "(array([ 4, 12, 28, 31, 41, 57, 60, 66, 71, 76, 91], dtype=int64),)\n",
      "(array([12, 28, 31, 41, 57, 60, 66, 71, 76, 91], dtype=int64),)\n",
      "(array([ 1,  4,  8,  9, 12, 14, 22, 28, 31, 41, 57, 60, 66, 70, 71, 76, 77,\n",
      "       78, 91], dtype=int64),)\n",
      "(array([12, 28, 31, 57, 60, 66, 71, 76, 91], dtype=int64),)\n",
      "(array([ 4, 12, 28, 31, 41, 57, 60, 66, 71, 76, 91], dtype=int64),)\n",
      "(array([ 4, 12, 28, 31, 41, 57, 60, 66, 71, 76, 91], dtype=int64),)\n",
      "(array([ 4, 12, 14, 22, 28, 31, 41, 57, 60, 66, 71, 76, 88, 91],\n",
      "      dtype=int64),)\n",
      "(array([12, 28, 60, 66, 76], dtype=int64),)\n",
      "(array([ 1,  4, 12, 28, 31, 41, 57, 60, 66, 71, 76, 91], dtype=int64),)\n",
      "(array([76], dtype=int64),)\n",
      "(array([ 1,  4,  9, 12, 14, 19, 22, 28, 31, 41, 57, 60, 66, 71, 76, 77, 87,\n",
      "       88, 91], dtype=int64),)\n",
      "(array([ 4,  9, 12, 28, 31, 41, 57, 60, 66, 71, 76, 91], dtype=int64),)\n",
      "(array([12, 28, 31, 57, 60, 66, 71, 76, 91], dtype=int64),)\n",
      "(array([ 4, 12, 28, 31, 41, 57, 60, 66, 71, 76, 91], dtype=int64),)\n",
      "(array([ 1,  4,  8, 12, 22, 28, 31, 41, 49, 57, 60, 64, 66, 70, 71, 76, 77,\n",
      "       78, 88, 91], dtype=int64),)\n",
      "(array([12, 28, 31, 57, 60, 66, 76, 91], dtype=int64),)\n",
      "(array([12, 28, 31, 57, 60, 66, 71, 76, 91], dtype=int64),)\n",
      "(array([ 1,  4,  8,  9, 11, 12, 14, 19, 22, 28, 31, 41, 49, 57, 60, 66, 71,\n",
      "       76, 77, 78, 91], dtype=int64),)\n",
      "(array([12, 28, 60, 66, 76], dtype=int64),)\n",
      "(array([ 4, 12, 14, 28, 31, 41, 57, 60, 66, 71, 76, 91], dtype=int64),)\n",
      "(array([ 1,  4,  5,  7,  8,  9, 11, 12, 14, 19, 22, 24, 28, 31, 41, 49, 57,\n",
      "       60, 64, 66, 70, 71, 73, 76, 77, 78, 87, 88, 91, 93], dtype=int64),)\n",
      "(array([ 1,  4,  5,  8,  9, 12, 14, 19, 22, 28, 31, 41, 49, 53, 57, 60, 66,\n",
      "       70, 71, 76, 77, 78, 87, 88, 91, 93], dtype=int64),)\n",
      "(array([ 4, 12, 14, 22, 28, 31, 41, 57, 60, 66, 71, 76, 91], dtype=int64),)\n",
      "(array([12, 28, 31, 57, 60, 66, 76], dtype=int64),)\n",
      "(array([12, 28, 31, 57, 60, 66, 71, 76, 91], dtype=int64),)\n",
      "(array([12, 28, 57, 60, 66, 76], dtype=int64),)\n",
      "(array([ 1,  4, 12, 22, 28, 31, 57, 60, 66, 71, 76, 91], dtype=int64),)\n",
      "(array([12, 28, 31, 60, 66, 76, 91], dtype=int64),)\n",
      "(array([ 1,  4, 12, 22, 28, 31, 41, 49, 57, 60, 66, 70, 71, 76, 77, 88, 91],\n",
      "      dtype=int64),)\n",
      "(array([], dtype=int64),)\n",
      "(array([12, 28, 31, 41, 57, 60, 66, 71, 76, 88, 91], dtype=int64),)\n",
      "(array([12, 28, 31, 57, 60, 66, 71, 76, 91], dtype=int64),)\n",
      "(array([12, 28, 31, 57, 60, 66, 76, 91], dtype=int64),)\n",
      "(array([12, 28, 31, 57, 60, 66, 76, 91], dtype=int64),)\n",
      "(array([ 4, 12, 28, 31, 41, 57, 60, 66, 71, 76, 91], dtype=int64),)\n",
      "(array([12, 28, 31, 57, 60, 66, 71, 76, 91], dtype=int64),)\n",
      "(array([ 1,  4,  8, 12, 28, 31, 41, 57, 60, 66, 71, 76, 91], dtype=int64),)\n",
      "(array([12, 28, 31, 57, 60, 66, 71, 76, 91], dtype=int64),)\n",
      "(array([], dtype=int64),)\n",
      "(array([ 4, 12, 28, 31, 57, 60, 66, 71, 76, 91], dtype=int64),)\n",
      "(array([ 1,  4, 12, 28, 31, 41, 57, 60, 66, 71, 76, 88, 91], dtype=int64),)\n",
      "(array([76], dtype=int64),)\n",
      "(array([12, 28, 31, 57, 60, 66, 71, 76, 91], dtype=int64),)\n",
      "(array([], dtype=int64),)\n",
      "(array([ 1,  4,  5,  8,  9, 11, 12, 14, 19, 22, 28, 31, 41, 47, 49, 53, 57,\n",
      "       60, 64, 66, 70, 71, 76, 77, 87, 88, 91, 93], dtype=int64),)\n",
      "(array([12, 28, 31, 57, 60, 66, 71, 76, 91], dtype=int64),)\n",
      "(array([12, 28, 31, 41, 53, 57, 60, 66, 71, 76, 91], dtype=int64),)\n",
      "(array([12, 28, 31, 57, 60, 66, 71, 76, 91], dtype=int64),)\n",
      "(array([12, 28, 31, 41, 57, 60, 66, 71, 76, 91], dtype=int64),)\n",
      "(array([ 4, 12, 22, 28, 31, 41, 57, 60, 66, 71, 76, 91], dtype=int64),)\n",
      "(array([ 4, 12, 22, 28, 31, 41, 57, 60, 66, 71, 76, 91], dtype=int64),)\n",
      "(array([12, 28, 31, 41, 57, 60, 66, 71, 76, 91], dtype=int64),)\n",
      "(array([12, 28, 57, 60, 66, 76, 91], dtype=int64),)\n",
      "(array([ 1,  4, 12, 28, 31, 57, 60, 66, 71, 76, 91], dtype=int64),)\n",
      "(array([ 1,  4,  7,  8,  9, 12, 14, 19, 22, 28, 31, 41, 57, 60, 66, 68, 70,\n",
      "       71, 76, 77, 88, 91, 93], dtype=int64),)\n",
      "(array([12, 28, 31, 60, 66, 76, 91], dtype=int64),)\n",
      "(array([], dtype=int64),)\n",
      "(array([12, 28, 31, 60, 66, 76], dtype=int64),)\n",
      "(array([12, 28, 31, 57, 60, 66, 71, 76, 91], dtype=int64),)\n",
      "(array([ 4, 12, 14, 22, 28, 31, 41, 49, 57, 60, 66, 70, 71, 76, 77, 88, 91],\n",
      "      dtype=int64),)\n",
      "(array([12, 28, 31, 57, 60, 66, 71, 76, 91], dtype=int64),)\n",
      "(array([12, 28, 31, 57, 60, 66, 76], dtype=int64),)\n",
      "(array([ 1,  4, 12, 28, 31, 41, 57, 60, 66, 71, 76, 91], dtype=int64),)\n",
      "(array([ 1,  4, 12, 28, 31, 41, 57, 60, 66, 71, 76, 91], dtype=int64),)\n",
      "(array([ 4, 12, 28, 31, 57, 60, 66, 71, 76, 91], dtype=int64),)\n",
      "(array([ 4, 12, 28, 31, 41, 57, 60, 66, 71, 76, 91], dtype=int64),)\n",
      "(array([ 4, 12, 28, 31, 41, 57, 60, 66, 71, 76, 91], dtype=int64),)\n",
      "(array([12, 28, 31, 57, 60, 66, 76, 91], dtype=int64),)\n",
      "(array([], dtype=int64),)\n",
      "(array([ 4,  5,  8, 12, 22, 28, 31, 41, 57, 60, 66, 70, 71, 76, 88, 91],\n",
      "      dtype=int64),)\n",
      "(array([12, 76], dtype=int64),)\n",
      "(array([ 1,  4,  8, 12, 22, 28, 31, 41, 49, 57, 60, 66, 71, 76, 88, 91],\n",
      "      dtype=int64),)\n",
      "(array([ 4, 12, 28, 31, 41, 57, 60, 66, 71, 76, 91], dtype=int64),)\n",
      "(array([ 4, 12, 22, 28, 31, 41, 57, 60, 66, 71, 76, 91], dtype=int64),)\n",
      "(array([ 4, 12, 28, 31, 57, 60, 66, 71, 76, 91], dtype=int64),)\n",
      "(array([12, 28, 31, 60, 66, 76], dtype=int64),)\n",
      "(array([ 1,  4,  9, 12, 14, 22, 28, 31, 41, 49, 57, 60, 66, 71, 76, 91],\n",
      "      dtype=int64),)\n"
     ]
    }
   ],
   "source": [
    "def input_func(input_ls, unit_conversion=0.8, dt=0.1):# 这连个参数对标spaic的possion_encoder\n",
    "    # import numpy as np\n",
    "    # rand_input = np.where(np.random.rand(*input_ls.shape) < input_ls * unit_conversion * dt)\n",
    "    a = (np.random.rand(*input_ls.shape) < input_ls * unit_conversion * dt)\n",
    "    return np.nonzero(a[0].astype(int))[0]\n",
    "\n",
    "def step():\n",
    "    ls = np.zeros(100,)\n",
    "    test.clear_neurons_states(LSC=True) # 学习状态存储器清空\n",
    "    for _ in range(25):\n",
    "        input_ls = np.array([[1 if i==1 or i == 4 else 0.01 for i in range(16)] * 16])\n",
    "        a = input_func(input_ls)\n",
    "        # print(a)\n",
    "        out = test.run_darwin3_withoutfile(spike_neurons=[a])\n",
    "\n",
    "        for i in range(len(out[0])):\n",
    "            index = out[0][i][1]\n",
    "            ls[index] += 1\n",
    "    print(ls.nonzero())\n",
    "    # print(ls[ls.nonzero()])\n",
    "\n",
    "for i in range(100): # 跑100次 读一下权重\n",
    "    step()\n",
    "\n",
    "# 那这样的话就是调出来了。 下面就是要把  Darwin的初始化还有step 的函数 放到 狗的代码里面 把spaic 的位置换成darwin stdp"
   ]
  },
  {
   "cell_type": "code",
   "execution_count": 187,
   "metadata": {},
   "outputs": [
    {
     "name": "stdout",
     "output_type": "stream",
     "text": [
      "6\n",
      "6\n"
     ]
    }
   ],
   "source": [
    "test.get_neuron_state(pop_name=\"layer1\", state=[ [0, ['npu_reg',],],  [1, ['npu_reg',],] ], offset=0x06)"
   ]
  },
  {
   "cell_type": "code",
   "execution_count": 254,
   "metadata": {},
   "outputs": [],
   "source": [
    "def input_func(input_ls, unit_conversion=0.8, dt=0.1):# 这连个参数对标spaic的possion_encoder\n",
    "    # import numpy as np\n",
    "    # rand_input = np.where(np.random.rand(*input_ls.shape) < input_ls * unit_conversion * dt)\n",
    "    a = (np.random.rand(*input_ls.shape) < input_ls * unit_conversion * dt)\n",
    "\n",
    "    return np.nonzero(a[0].astype(int))[0]"
   ]
  },
  {
   "cell_type": "code",
   "execution_count": 3,
   "metadata": {},
   "outputs": [],
   "source": [
    "import numpy as np\n",
    "import torch"
   ]
  },
  {
   "cell_type": "code",
   "execution_count": 4,
   "metadata": {},
   "outputs": [
    {
     "data": {
      "text/plain": [
       "tensor([[126.,  19.,  39.,  ...,  71.,  34.,  25.],\n",
       "        [ 67.,  75.,  18.,  ...,  45.,  21.,  66.],\n",
       "        [ 44.,  56.,  83.,  ...,  25.,  63., 109.],\n",
       "        ...,\n",
       "        [ 99.,  43.,  86.,  ..., 127., 114.,  48.],\n",
       "        [123.,  67.,  39.,  ..., 105.,  42.,  78.],\n",
       "        [ 92.,  52.,  49.,  ..., 127.,  47.,  39.]], device='cuda:0',\n",
       "       requires_grad=True)"
      ]
     },
     "execution_count": 4,
     "metadata": {},
     "output_type": "execute_result"
    }
   ],
   "source": [
    "a = torch.load(r\"C:\\Users\\bignuts\\Desktop\\ZJU\\hang_zhou\\alcohol\\quant_input_layer1.pth\")\n",
    "a"
   ]
  },
  {
   "cell_type": "code",
   "execution_count": 5,
   "metadata": {},
   "outputs": [
    {
     "data": {
      "text/plain": [
       "tensor([126.,  19.,  39.,  59.,  31.,  26.,  24.,  32., 125.,  68.,  17.,  74.,\n",
       "         31.,  64.,  18.,  33., 127.,  11.,  24.,  69.,  22.,  40.,  12.,  42.,\n",
       "        119.,  72.,  28.,  56.,  37.,  64.,  19.,  25., 125.,  20.,  25.,  61.,\n",
       "         16.,  37.,  26.,  34., 120.,  55.,  19.,  76.,  54.,  61.,  30.,  25.,\n",
       "        111.,  23.,  20.,  54.,  23.,  30.,  18.,  34., 119.,  57.,  19.,  65.,\n",
       "         48.,  65.,  22.,  27., 127.,  15.,  39.,  67.,  17.,  23.,  23.,  34.,\n",
       "        120.,  43.,  21.,  60.,  47.,  67.,  24.,  29., 127.,  14.,  31.,  44.,\n",
       "         24.,  24.,  31.,  35., 122.,  66.,  21.,  66.,  35.,  67.,  19.,  26.,\n",
       "        127.,   9.,  25.,  44.,  47.,  29.,  20.,  29., 110.,  61.,  14.,  66.,\n",
       "         54.,  64.,  21.,  32., 120.,  22.,  27.,  56.,  31.,  39.,  26.,  37.,\n",
       "        110.,  49.,  24.,  73.,  33.,  61.,  18.,  31., 118.,  22.,  27.,  61.,\n",
       "         16.,  29.,  16.,  43., 113.,  52.,  27.,  56.,  26.,  64.,  22.,  19.,\n",
       "        127.,  19.,  32.,  58.,  37.,  36.,  40.,  30., 127.,  46.,  21.,  68.,\n",
       "         49.,  72.,  28.,  29., 106.,  21.,  33.,  61.,  32.,  43.,  27.,  29.,\n",
       "        127.,  66.,   4.,  70.,  39.,  68.,  30.,  34., 125.,  21.,  33.,  72.,\n",
       "         39.,  27.,  22.,  37., 127.,  52.,  11.,  77.,  32.,  63.,  20.,  22.,\n",
       "        125.,  17.,  43.,  76.,  27.,  22.,  37.,  33., 127.,  64.,  18.,  64.,\n",
       "         32.,  69.,  30.,  33., 118.,  15.,  23.,  64.,  23.,  30.,  22.,  36.,\n",
       "        117.,  56.,  19.,  75.,  27.,  64.,  17.,  22., 120.,  10.,  28.,  52.,\n",
       "         39.,  26.,  22.,  32., 127.,  50.,  16.,  72.,  36.,  66.,  30.,  13.,\n",
       "        117.,  22.,  22.,  48.,  24.,  23.,  25.,  40., 122.,  64.,  19.,  70.,\n",
       "         32.,  71.,  34.,  25.], device='cuda:0', grad_fn=<SelectBackward0>)"
      ]
     },
     "execution_count": 5,
     "metadata": {},
     "output_type": "execute_result"
    }
   ],
   "source": [
    "a[0]"
   ]
  },
  {
   "cell_type": "code",
   "execution_count": 71,
   "metadata": {},
   "outputs": [],
   "source": [
    "test.get_neuron_state(pop_name=\"layer2\", state=[ [0, ['inference_status',],],  [1, ['inference_status',],]])  # 19"
   ]
  },
  {
   "cell_type": "code",
   "execution_count": 6,
   "metadata": {},
   "outputs": [
    {
     "data": {
      "text/plain": [
       "81"
      ]
     },
     "execution_count": 6,
     "metadata": {},
     "output_type": "execute_result"
    }
   ],
   "source": [
    "len(\"2024-12-10 14:22:10,514 - INFO - [dedr] tik=0, x=0, y=2, relay_link=0x00, addr=0x\")"
   ]
  },
  {
   "cell_type": "code",
   "execution_count": null,
   "metadata": {},
   "outputs": [],
   "source": [
    "\n",
    "import time\n",
    "for _ in range(25):\n",
    "    print(test.run_darwin3_withoutfile(spike_neurons=[[]])) # \n",
    "    # time.sleep(0.4)\n",
    "test.get_neuron_state(pop_name=\"layer1\", state=[ [0, ['inference_status',],],  [1, ['inference_status',],]])  # 19"
   ]
  },
  {
   "cell_type": "code",
   "execution_count": null,
   "metadata": {},
   "outputs": [],
   "source": [
    "print(test.run_darwin3_withoutfile(spike_neurons=[[]]))\n",
    "test.get_neuron_state(pop_name=\"layer1\", state=[ [0, ['inference_status',],],  [1, ['inference_status',],]]) # 查看推理存储器"
   ]
  },
  {
   "cell_type": "code",
   "execution_count": null,
   "metadata": {},
   "outputs": [],
   "source": [
    "test.get_neuron_state(pop_name=\"layer2\", state=[ [i, ['vt',],] for i in range(100) ])"
   ]
  },
  {
   "cell_type": "code",
   "execution_count": 189,
   "metadata": {},
   "outputs": [
    {
     "name": "stdout",
     "output_type": "stream",
     "text": [
      "6\n",
      "6\n"
     ]
    }
   ],
   "source": [
    "test.get_neuron_state(pop_name=\"layer1\", state=[ [0, ['npu_reg',],],  [1, ['npu_reg',],] ], offset=0x06) # 查看vth 寄存器"
   ]
  },
  {
   "cell_type": "code",
   "execution_count": null,
   "metadata": {},
   "outputs": [],
   "source": [
    "test.get_neuron_state(pop_name=\"layer1\", state=[ [0, ['vt',],],  [1, ['vt',],] ])"
   ]
  },
  {
   "cell_type": "code",
   "execution_count": null,
   "metadata": {},
   "outputs": [],
   "source": [
    "import time"
   ]
  },
  {
   "cell_type": "code",
   "execution_count": null,
   "metadata": {},
   "outputs": [],
   "source": [
    "for i in range(100):\n",
    "    test.get_neuron_state(pop_name=\"layer1\", state=[ [i, ['vt',],], ])\n",
    "    time.sleep(0.5)\n"
   ]
  },
  {
   "cell_type": "code",
   "execution_count": null,
   "metadata": {},
   "outputs": [],
   "source": [
    "print(test.run_darwin3_withoutfile(spike_neurons=test_ls))\n"
   ]
  },
  {
   "cell_type": "code",
   "execution_count": null,
   "metadata": {},
   "outputs": [],
   "source": [
    "\n"
   ]
  },
  {
   "cell_type": "code",
   "execution_count": null,
   "metadata": {},
   "outputs": [],
   "source": [
    "# test.get_neuron_state(pop_name=\"layer1\", state=[ [0, ['inference_status',],],  [1, ['inference_status',],]]) # 查看推理存储器\n",
    "print(test.run_darwin3_withoutfile(spike_neurons=[[]]))\n",
    "test.get_neuron_state(pop_name=\"layer1\", state=[ [0, ['vt',],],  [1, ['vt',],] ])\n",
    "# test.get_neuron_state(pop_name=\"layer1\", state=[ [0, ['inference_status',],],  [1, ['inference_status',],]]) # 查看推理存储器\n"
   ]
  },
  {
   "cell_type": "code",
   "execution_count": 12,
   "metadata": {},
   "outputs": [
    {
     "name": "stdout",
     "output_type": "stream",
     "text": [
      "2\n",
      "2\n"
     ]
    }
   ],
   "source": [
    "test.get_neuron_state(pop_name=\"layer1\", state=[ [0, ['npu_reg',],],  [1, ['npu_reg',],] ], offset=0x02)"
   ]
  },
  {
   "cell_type": "code",
   "execution_count": null,
   "metadata": {},
   "outputs": [],
   "source": [
    "\n",
    "print(test.run_darwin3_withoutfile(spike_neurons=[[7,]]))\n",
    "test.get_neuron_state(pop_name=\"layer1\", state=[ [0, ['vt',],],  [1, ['vt',],] ])\n",
    "\n",
    "# test.get_neuron_state(pop_name=\"layer1\", state=[ [0, ['inference_status',],],  [1, ['inference_status',],]]) # 查看推理存储器 这是 第四次 输入 应该进入了下一个周期，所以应该电压会相对高一点"
   ]
  },
  {
   "cell_type": "code",
   "execution_count": null,
   "metadata": {},
   "outputs": [],
   "source": [
    "print(test.run_darwin3_withoutfile(spike_neurons=[[7,8,9]]))\n",
    "test.get_neuron_state(pop_name=\"layer1\", state=[ [0, ['vt',],],  [1, ['vt',],] ])\n"
   ]
  },
  {
   "cell_type": "code",
   "execution_count": null,
   "metadata": {},
   "outputs": [],
   "source": [
    "test.get_neuron_state(pop_name=\"layer1\", state=[ [0, ['vt',],],  [1, ['vt',],] ])\n",
    "# test.get_neuron_state(pop_name=\"layer1\", state=[ [0, ['npu_reg',],],  [1, ['npu_reg',],] ], offset=0x01)"
   ]
  },
  {
   "cell_type": "code",
   "execution_count": null,
   "metadata": {},
   "outputs": [],
   "source": [
    "test.run_darwin3_withoutfile(spike_neurons=[[5,6,7,8],[]])\n",
    "test.get_neuron_state(pop_name=\"layer1\", state=[ [0, ['inference_status',],],  [1, ['inference_status',],]])"
   ]
  },
  {
   "cell_type": "code",
   "execution_count": null,
   "metadata": {},
   "outputs": [],
   "source": [
    "test.get_neuron_state(pop_name=\"layer1\", state=[ [0, ['npu_reg',],],  [1, ['npu_reg',],] ], offset=0x05) # 查看vth 寄存器"
   ]
  },
  {
   "cell_type": "code",
   "execution_count": null,
   "metadata": {},
   "outputs": [],
   "source": [
    "import torch\n",
    "torch.load(r\"C:\\Users\\bignuts\\Desktop\\ZJU\\hang_zhou\\alcohol\\save_lif_200_quant\\parameters\\_variables.pt\")"
   ]
  },
  {
   "cell_type": "code",
   "execution_count": null,
   "metadata": {},
   "outputs": [],
   "source": [
    "test.run_darwin3_withoutfile(spike_neurons=[[]])"
   ]
  },
  {
   "cell_type": "code",
   "execution_count": null,
   "metadata": {},
   "outputs": [],
   "source": [
    "test.get_neuron_state(pop_name=\"layer1\", state=[ [0, ['npu_reg',],],  [1, ['npu_reg',],] ], offset=0x00)"
   ]
  },
  {
   "cell_type": "code",
   "execution_count": null,
   "metadata": {},
   "outputs": [],
   "source": [
    "test.run_darwin3_withoutfile(spike_neurons=test_ls)"
   ]
  },
  {
   "cell_type": "code",
   "execution_count": null,
   "metadata": {},
   "outputs": [],
   "source": [
    "test.get_neuron_state(pop_name=\"layer1\", state=[ [0, ['vt',],],  [1, ['vt',],] ])"
   ]
  },
  {
   "cell_type": "code",
   "execution_count": null,
   "metadata": {},
   "outputs": [],
   "source": [
    "import torch\n",
    "torch.load(r\"C:\\Users\\bignuts\\Desktop\\ZJU\\hang_zhou\\alcohol\\save_200_quant\\parameters\\_parameters_dict.pt\") # 加载权重\n",
    "# weight_input0_to_layer1 = emo_net_weight[r'autoname9<net>_connection1<con>:autoname9<net>_layer1<neg><-autoname9<net>_input<nod>:{weight}'].detach().cpu() # "
   ]
  },
  {
   "cell_type": "code",
   "execution_count": null,
   "metadata": {},
   "outputs": [],
   "source": [
    "vth = torch.load(r\"C:\\Users\\bignuts\\Desktop\\ZJU\\hang_zhou\\alcohol\\save_200\\parameters\\_variables.pt\") # 加载权重\n",
    "vth"
   ]
  },
  {
   "cell_type": "code",
   "execution_count": null,
   "metadata": {},
   "outputs": [],
   "source": [
    "import torch\n",
    "torch.load(r\"C:\\Users\\bignuts\\Desktop\\ZJU\\hang_zhou\\alcohol\\save_lif_200_quant\\parameters\\_variables.pt\") # 加载权重"
   ]
  },
  {
   "cell_type": "code",
   "execution_count": null,
   "metadata": {},
   "outputs": [],
   "source": [
    "vth = vth['autoname9<net>_layer1<neg>:{v_th}'].detach().cpu()"
   ]
  },
  {
   "cell_type": "code",
   "execution_count": 81,
   "metadata": {},
   "outputs": [
    {
     "data": {
      "text/plain": [
       "'0x4400'"
      ]
     },
     "execution_count": 81,
     "metadata": {},
     "output_type": "execute_result"
    }
   ],
   "source": [
    "hex(0b0100_0100 << 8)"
   ]
  },
  {
   "cell_type": "code",
   "execution_count": null,
   "metadata": {},
   "outputs": [],
   "source": [
    "import numpy as np"
   ]
  },
  {
   "cell_type": "code",
   "execution_count": null,
   "metadata": {},
   "outputs": [],
   "source": [
    "test.get_neuron_state(pop_name=\"layer1\", state=[ [0, ['npu_reg',],],  [1, ['npu_reg',],] ], offset=0x00)"
   ]
  },
  {
   "cell_type": "code",
   "execution_count": 129,
   "metadata": {},
   "outputs": [
    {
     "name": "stdout",
     "output_type": "stream",
     "text": [
      "yyyyyy\n",
      "yyyyyy\n"
     ]
    }
   ],
   "source": [
    "test.get_neuron_state(pop_name=\"layer1\", state=[ [0, ['config_reg',],],  [1, ['config_reg',],] ], offset=0x08)"
   ]
  },
  {
   "cell_type": "code",
   "execution_count": null,
   "metadata": {},
   "outputs": [],
   "source": [
    "import torch\n",
    "torch.load(r\"C:\\Users\\bignuts\\Desktop\\ZJU\\hang_zhou\\alcohol\\quant_input_layer1.pth\").detach().cpu().numpy()"
   ]
  },
  {
   "cell_type": "code",
   "execution_count": 43,
   "metadata": {},
   "outputs": [
    {
     "data": {
      "text/plain": [
       "'0xff'"
      ]
     },
     "execution_count": 43,
     "metadata": {},
     "output_type": "execute_result"
    }
   ],
   "source": [
    "hex((-1 & 0xff))"
   ]
  },
  {
   "cell_type": "code",
   "execution_count": null,
   "metadata": {},
   "outputs": [],
   "source": [
    "-24000\n",
    "2**16"
   ]
  },
  {
   "cell_type": "code",
   "execution_count": null,
   "metadata": {},
   "outputs": [],
   "source": [
    "-52 * 400"
   ]
  },
  {
   "cell_type": "code",
   "execution_count": null,
   "metadata": {},
   "outputs": [],
   "source": [
    "3 / 32"
   ]
  },
  {
   "cell_type": "code",
   "execution_count": null,
   "metadata": {},
   "outputs": [],
   "source": [
    "torch.load(r\"C:\\Users\\bignuts\\Desktop\\ZJU\\hang_zhou\\alcohol\\hang_zhou_spaic\\save_600\\real_ysc_model_mic\\parameters\\_parameters_dict.pt\")"
   ]
  },
  {
   "cell_type": "code",
   "execution_count": null,
   "metadata": {},
   "outputs": [],
   "source": [
    "hex(-40*400 & 0xffff)"
   ]
  },
  {
   "cell_type": "code",
   "execution_count": 60,
   "metadata": {},
   "outputs": [
    {
     "data": {
      "text/plain": [
       "array([[126.,  19.,  39., ...,  71.,  34.,  25.],\n",
       "       [ 67.,  75.,  18., ...,  45.,  21.,  66.],\n",
       "       [ 44.,  56.,  83., ...,  25.,  63., 109.],\n",
       "       ...,\n",
       "       [ 99.,  43.,  86., ..., 127., 114.,  48.],\n",
       "       [123.,  67.,  39., ..., 105.,  42.,  78.],\n",
       "       [ 92.,  52.,  49., ..., 127.,  47.,  39.]], dtype=float32)"
      ]
     },
     "execution_count": 60,
     "metadata": {},
     "output_type": "execute_result"
    }
   ],
   "source": [
    "emo_net_weight = torch.load(r\"C:\\Users\\bignuts\\Desktop\\ZJU\\hang_zhou\\alcohol\\quant_input_layer1.pth\").detach().cpu().numpy()\n",
    "emo_net_weight"
   ]
  },
  {
   "cell_type": "code",
   "execution_count": 61,
   "metadata": {},
   "outputs": [
    {
     "data": {
      "text/plain": [
       "(100, 256)"
      ]
     },
     "execution_count": 61,
     "metadata": {},
     "output_type": "execute_result"
    }
   ],
   "source": [
    "emo_net_weight.shape"
   ]
  },
  {
   "cell_type": "code",
   "execution_count": 63,
   "metadata": {},
   "outputs": [
    {
     "data": {
      "text/plain": [
       "(100,)"
      ]
     },
     "execution_count": 63,
     "metadata": {},
     "output_type": "execute_result"
    }
   ],
   "source": [
    "emo_net_weight[:, 0].shape"
   ]
  },
  {
   "cell_type": "code",
   "execution_count": 15,
   "metadata": {},
   "outputs": [
    {
     "data": {
      "text/plain": [
       "array([4, 4])"
      ]
     },
     "execution_count": 15,
     "metadata": {},
     "output_type": "execute_result"
    }
   ],
   "source": [
    "np.array((-2,2)) ** 2"
   ]
  },
  {
   "cell_type": "code",
   "execution_count": null,
   "metadata": {},
   "outputs": [],
   "source": []
  }
 ],
 "metadata": {
  "kernelspec": {
   "display_name": "Python 3",
   "language": "python",
   "name": "python3"
  },
  "language_info": {
   "codemirror_mode": {
    "name": "ipython",
    "version": 3
   },
   "file_extension": ".py",
   "mimetype": "text/x-python",
   "name": "python",
   "nbconvert_exporter": "python",
   "pygments_lexer": "ipython3",
   "version": "3.10.10"
  }
 },
 "nbformat": 4,
 "nbformat_minor": 2
}
