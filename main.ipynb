{
 "cells": [
  {
   "cell_type": "code",
   "execution_count": 1,
   "metadata": {},
   "outputs": [],
   "source": [
    "import torch\n",
    "import json"
   ]
  },
  {
   "cell_type": "code",
   "execution_count": 2,
   "metadata": {},
   "outputs": [
    {
     "data": {
      "text/plain": [
       "{'autoname9<net>_connection1<con>:autoname9<net>_layer1<neg><-autoname9<net>_input<nod>:{weight}': tensor([[  49.,  -14.,   88.,   54.,  -11.,  -79.,   99.,    4.,   65., -127.],\n",
       "         [ -41.,   46.,  -89.,   59.,   -7.,   88.,   53.,  127.,   20.,   86.]],\n",
       "        device='cuda:0', requires_grad=True)}"
      ]
     },
     "execution_count": 2,
     "metadata": {},
     "output_type": "execute_result"
    }
   ],
   "source": [
    "a = torch.load(r\"C:\\Users\\bignuts\\Desktop\\ZJU\\hang_zhou\\alcohol\\save_200_quant\\parameters\\_parameters_dict.pt\")\n",
    "a"
   ]
  },
  {
   "cell_type": "code",
   "execution_count": 3,
   "metadata": {},
   "outputs": [
    {
     "data": {
      "text/plain": [
       "{'autoname9<net>_layer1<neg>:{v_th}': tensor([1426.9562,  979.7924], device='cuda:0', requires_grad=True)}"
      ]
     },
     "execution_count": 3,
     "metadata": {},
     "output_type": "execute_result"
    }
   ],
   "source": [
    "b = torch.load(r\"C:\\Users\\bignuts\\Desktop\\ZJU\\hang_zhou\\alcohol\\save_200_quant\\parameters\\diff_para_dict.pt\")\n",
    "b"
   ]
  },
  {
   "cell_type": "code",
   "execution_count": null,
   "metadata": {},
   "outputs": [],
   "source": []
  }
 ],
 "metadata": {
  "kernelspec": {
   "display_name": "Python 3",
   "language": "python",
   "name": "python3"
  },
  "language_info": {
   "codemirror_mode": {
    "name": "ipython",
    "version": 3
   },
   "file_extension": ".py",
   "mimetype": "text/x-python",
   "name": "python",
   "nbconvert_exporter": "python",
   "pygments_lexer": "ipython3",
   "version": "3.10.10"
  }
 },
 "nbformat": 4,
 "nbformat_minor": 2
}
