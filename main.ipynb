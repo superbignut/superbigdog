{
 "cells": [
  {
   "cell_type": "code",
   "execution_count": 1,
   "metadata": {},
   "outputs": [],
   "source": [
    "import torch\n",
    "import json\n",
    "import numpy as np"
   ]
  },
  {
   "cell_type": "code",
   "execution_count": 4,
   "metadata": {},
   "outputs": [
    {
     "data": {
      "text/plain": [
       "{'[dt]': 0.1,\n",
       " '[batch_size]': 1,\n",
       " 'autoname14<net>_input<nod>:{O}': tensor([[0., 0., 0., 0., 0., 0., 0., 0., 0., 0.]], device='cuda:0'),\n",
       " 'autoname14<net>_layer1<neg>:{tauM}': tensor(0.9375, device='cuda:0'),\n",
       " 'autoname14<net>_layer1<neg>:{V}': tensor([[0., 0.]], device='cuda:0'),\n",
       " 'autoname14<net>_layer1<neg>:{O}': tensor([[0., 0.]], device='cuda:0'),\n",
       " 'autoname14<net>_layer1<neg>:{Isyn}': tensor([[0., 0.]], device='cuda:0'),\n",
       " 'autoname14<net>_layer1<neg>:{Vth}': tensor(127., device='cuda:0'),\n",
       " 'autoname14<net>_layer1<neg>:{Vreset}': tensor(0., device='cuda:0'),\n",
       " 'autoname14<net>_connection1<con>:autoname14<net>_layer1<neg><-autoname14<net>_input<nod>:{weight}': tensor([[ -98.,  -73.,  -49.,  -69., -127.,  -68.,    2.,   -0.,   92.,   32.],\n",
       "         [ -50., -100.,    6.,   67.,   -2.,   50.,   65.,   14.,  127.,   19.]],\n",
       "        device='cuda:0', requires_grad=True)}"
      ]
     },
     "execution_count": 4,
     "metadata": {},
     "output_type": "execute_result"
    }
   ],
   "source": [
    "torch.load(r\"C:\\Users\\bignuts\\Desktop\\ZJU\\hang_zhou\\alcohol\\save_lif_200_quant\\parameters\\_variables.pt\")\n"
   ]
  },
  {
   "cell_type": "code",
   "execution_count": 11,
   "metadata": {},
   "outputs": [
    {
     "ename": "NameError",
     "evalue": "name 'spk' is not defined",
     "output_type": "error",
     "traceback": [
      "\u001b[1;31m---------------------------------------------------------------------------\u001b[0m",
      "\u001b[1;31mNameError\u001b[0m                                 Traceback (most recent call last)",
      "Cell \u001b[1;32mIn[11], line 1\u001b[0m\n\u001b[1;32m----> 1\u001b[0m \u001b[43mspk\u001b[49m\n",
      "\u001b[1;31mNameError\u001b[0m: name 'spk' is not defined"
     ]
    }
   ],
   "source": [
    "spk"
   ]
  },
  {
   "cell_type": "code",
   "execution_count": 6,
   "metadata": {},
   "outputs": [
    {
     "data": {
      "text/plain": [
       "array([[0, 1, 0],\n",
       "       [1, 1, 0],\n",
       "       [1, 0, 1]], dtype=int8)"
      ]
     },
     "execution_count": 6,
     "metadata": {},
     "output_type": "execute_result"
    }
   ],
   "source": [
    "spk >> 1 & 1"
   ]
  },
  {
   "cell_type": "code",
   "execution_count": 8,
   "metadata": {},
   "outputs": [
    {
     "data": {
      "text/plain": [
       "0.9375"
      ]
     },
     "execution_count": 8,
     "metadata": {},
     "output_type": "execute_result"
    }
   ],
   "source": [
    "np.exp(-0.1/(-0.1 / np.log(15/16)))"
   ]
  },
  {
   "cell_type": "code",
   "execution_count": 9,
   "metadata": {},
   "outputs": [
    {
     "data": {
      "text/plain": [
       "1.549462216322538"
      ]
     },
     "execution_count": 9,
     "metadata": {},
     "output_type": "execute_result"
    }
   ],
   "source": [
    "(-0.1 / np.log(15/16))"
   ]
  },
  {
   "cell_type": "code",
   "execution_count": null,
   "metadata": {},
   "outputs": [],
   "source": []
  }
 ],
 "metadata": {
  "kernelspec": {
   "display_name": "Python 3",
   "language": "python",
   "name": "python3"
  },
  "language_info": {
   "codemirror_mode": {
    "name": "ipython",
    "version": 3
   },
   "file_extension": ".py",
   "mimetype": "text/x-python",
   "name": "python",
   "nbconvert_exporter": "python",
   "pygments_lexer": "ipython3",
   "version": "3.10.10"
  }
 },
 "nbformat": 4,
 "nbformat_minor": 2
}
